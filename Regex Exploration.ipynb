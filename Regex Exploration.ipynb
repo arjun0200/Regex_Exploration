{
 "cells": [
  {
   "cell_type": "code",
   "execution_count": 1,
   "id": "622a0bfe",
   "metadata": {},
   "outputs": [],
   "source": [
    "import re\n",
    "from colorama import Back, Style"
   ]
  },
  {
   "cell_type": "code",
   "execution_count": 2,
   "id": "f5141874",
   "metadata": {},
   "outputs": [],
   "source": [
    "def highlight_regex_matches(pattern, text, print_output = True):\n",
    "    output = text\n",
    "    len_inc = 0\n",
    "    for match in pattern.finditer(text):\n",
    "        start, end = match.start() + len_inc, match.end() + len_inc\n",
    "        output = output[:start] + Back.YELLOW + Style.BRIGHT + output[start:end] + Style.RESET_ALL + output[end:]\n",
    "        len_inc = len(output) - len(text)\n",
    "    if print_output:\n",
    "        print(output)\n",
    "    else:\n",
    "        return output"
   ]
  },
  {
   "cell_type": "markdown",
   "id": "f2126cd6",
   "metadata": {},
   "source": [
    "## 1. Compiling Regular Expressions\n",
    "\n",
    "Regular expressions are **compiled** into `Pattern` objects, which have methods for various operations such as searching for pattern matches or performing string substitutions.\n",
    "\n",
    "\n",
    "### `re.compile(pattern, flags=0)`\n",
    "\n",
    "Compile a regular expression pattern, returning a pattern object.\n",
    "\n",
    "- The regular expression is passed to `re.compile()` as a **string**. \n",
    "\n",
    "> Regular expressions are handled as strings because regular expressions aren’t part of the core Python language, and no special syntax was created for expressing them. \n",
    "\n",
    "> Regular expression patterns are compiled into a series of bytecodes which are then executed by a matching engine written in C."
   ]
  },
  {
   "cell_type": "code",
   "execution_count": 3,
   "id": "fb5fde64",
   "metadata": {},
   "outputs": [],
   "source": [
    "pattern = re.compile(\"hello\")"
   ]
  },
  {
   "cell_type": "code",
   "execution_count": 4,
   "id": "01d7c28e",
   "metadata": {},
   "outputs": [
    {
     "data": {
      "text/plain": [
       "re.compile(r'hello', re.UNICODE)"
      ]
     },
     "execution_count": 4,
     "metadata": {},
     "output_type": "execute_result"
    }
   ],
   "source": [
    "pattern"
   ]
  },
  {
   "cell_type": "markdown",
   "id": "6b158fd5",
   "metadata": {},
   "source": [
    "- `re.compile()` also accepts an optional `flags` argument, used to enable various special features and syntax variations. [More about flags](http://xahlee.info/python/python_regex_flags.html)\n",
    "\n",
    "<br>\n",
    "\n",
    "In the example below, we use the flag `re.I` (short for `re.IGNORECASE`) to ignore letter case in the regex pattern."
   ]
  },
  {
   "cell_type": "code",
   "execution_count": 5,
   "id": "82cf6e13",
   "metadata": {},
   "outputs": [],
   "source": [
    "pattern = re.compile(\"hello\", flags=re.I)"
   ]
  },
  {
   "cell_type": "code",
   "execution_count": 6,
   "id": "ea3f910c",
   "metadata": {},
   "outputs": [
    {
     "data": {
      "text/plain": [
       "re.compile(r'hello', re.IGNORECASE|re.UNICODE)"
      ]
     },
     "execution_count": 6,
     "metadata": {},
     "output_type": "execute_result"
    }
   ],
   "source": [
    "pattern"
   ]
  },
  {
   "cell_type": "markdown",
   "id": "14088ad6",
   "metadata": {},
   "source": [
    "## 2. Performing Matches\n",
    "\n",
    "So, we have created a `Pattern` object representing a compiled regular expression using `re.compile()` method.\n",
    "\n",
    "Pattern objects have several methods and attributes.\n",
    "\n",
    "Here is the list of different methods used for performing matches:\n",
    "\n",
    "\n",
    "<table style=\"border: 1px solid black; font-size:15px;\">\n",
    "<thead>\n",
    "    <th>Method/Attribute</th>\n",
    "    <th>Purpose</th>\n",
    "</thead>\n",
    "    \n",
    "<tbody>\n",
    "<tr>\n",
    "    <td>match()</td>\n",
    "    <td>Determine if the RE matches at the beginning of the string.</td>\n",
    "</tr>\n",
    "    \n",
    "<tr>\n",
    "    <td>search()</td>\n",
    "    <td>Scan through a string, looking for any location where this RE matches.</td>\n",
    "</tr>\n",
    "\n",
    "<tr>\n",
    "    <td>findall()</td>\n",
    "    <td>Find all substrings where the RE matches, and returns them as a list.</td>\n",
    "</tr>\n",
    "\n",
    "<tr>\n",
    "    <td>finditer()</td>\n",
    "    <td>Find all substrings where the RE matches, and returns them as an iterator.</td>\n",
    "</tr>\n",
    "</tbody>\n",
    "</table>\n",
    "\n",
    "Let us go through them one by one:\n",
    "\n",
    "### `match(string[, pos[, endpos]])`\n",
    "\n",
    "- A match is checked only at the beginning (by default).\n",
    "\n",
    "- Checking starts from `pos` index of the string. (default is 0)\n",
    "\n",
    "- Checking is done until `endpos` index of string. `endpos` is set as a very large integer (by default).\n",
    "\n",
    "- Returns `None` if no match found.\n",
    "\n",
    "- If a match is found, a `Match` object is returned, containing information about the match: where it starts and ends, the substring it matched, and more."
   ]
  },
  {
   "cell_type": "code",
   "execution_count": 7,
   "id": "2e46d5e4",
   "metadata": {},
   "outputs": [],
   "source": [
    "pattern = re.compile(\"hello\")"
   ]
  },
  {
   "cell_type": "code",
   "execution_count": 8,
   "id": "34da69b8",
   "metadata": {},
   "outputs": [],
   "source": [
    "match = pattern.match(\"hello world\")"
   ]
  },
  {
   "cell_type": "code",
   "execution_count": 9,
   "id": "5eb1487f",
   "metadata": {},
   "outputs": [
    {
     "data": {
      "text/plain": [
       "(0, 5)"
      ]
     },
     "execution_count": 9,
     "metadata": {},
     "output_type": "execute_result"
    }
   ],
   "source": [
    "match.span()"
   ]
  },
  {
   "cell_type": "code",
   "execution_count": 10,
   "id": "a49c8b7e",
   "metadata": {},
   "outputs": [
    {
     "data": {
      "text/plain": [
       "0"
      ]
     },
     "execution_count": 10,
     "metadata": {},
     "output_type": "execute_result"
    }
   ],
   "source": [
    "match.start()"
   ]
  },
  {
   "cell_type": "code",
   "execution_count": 11,
   "id": "fe0260e1",
   "metadata": {},
   "outputs": [
    {
     "data": {
      "text/plain": [
       "5"
      ]
     },
     "execution_count": 11,
     "metadata": {},
     "output_type": "execute_result"
    }
   ],
   "source": [
    "match.end()"
   ]
  },
  {
   "cell_type": "code",
   "execution_count": 12,
   "id": "ed0e6fb3",
   "metadata": {},
   "outputs": [
    {
     "data": {
      "text/plain": [
       "False"
      ]
     },
     "execution_count": 12,
     "metadata": {},
     "output_type": "execute_result"
    }
   ],
   "source": [
    "pattern.match(\"say hello\", pos=4) is None"
   ]
  },
  {
   "cell_type": "code",
   "execution_count": 13,
   "id": "519c5b61",
   "metadata": {},
   "outputs": [
    {
     "data": {
      "text/plain": [
       "True"
      ]
     },
     "execution_count": 13,
     "metadata": {},
     "output_type": "execute_result"
    }
   ],
   "source": [
    "pattern.match(\"hello\", endpos=4) is None"
   ]
  },
  {
   "cell_type": "markdown",
   "id": "43451ba0",
   "metadata": {},
   "source": [
    "### `search(string[, pos[, endpos]])`\n",
    "\n",
    "- A match is checked throughtout the string.\n",
    "\n",
    "- Same behaviour of `pos` and `endpos` as the `match()` function.\n",
    "\n",
    "- Returns `None` if no match found.\n",
    "\n",
    "- If a match is found, a `Match` object is returned."
   ]
  },
  {
   "cell_type": "code",
   "execution_count": 14,
   "id": "78094172",
   "metadata": {},
   "outputs": [
    {
     "data": {
      "text/plain": [
       "<re.Match object; span=(4, 9), match='hello'>"
      ]
     },
     "execution_count": 14,
     "metadata": {},
     "output_type": "execute_result"
    }
   ],
   "source": [
    "pattern.search(\"say hello\")"
   ]
  },
  {
   "cell_type": "code",
   "execution_count": 15,
   "id": "2f8f8f50",
   "metadata": {},
   "outputs": [
    {
     "data": {
      "text/plain": [
       "<re.Match object; span=(4, 9), match='hello'>"
      ]
     },
     "execution_count": 15,
     "metadata": {},
     "output_type": "execute_result"
    }
   ],
   "source": [
    "pattern.search(\"say hello hello\")"
   ]
  },
  {
   "cell_type": "markdown",
   "id": "dd768c5a",
   "metadata": {},
   "source": [
    "### `findall(string[, pos[, endpos]])`\n",
    "\n",
    "- Finds **all non-overlapping substrings** where the match is found, and returns them as a list.\n",
    "\n",
    "- Same behaviour of `pos` and `endpos` as the `match()` and `search()` function."
   ]
  },
  {
   "cell_type": "code",
   "execution_count": 16,
   "id": "ca23b38a",
   "metadata": {},
   "outputs": [
    {
     "data": {
      "text/plain": [
       "['hello', 'hello']"
      ]
     },
     "execution_count": 16,
     "metadata": {},
     "output_type": "execute_result"
    }
   ],
   "source": [
    "pattern.findall(\"say hello hello\")"
   ]
  },
  {
   "cell_type": "markdown",
   "id": "3450d9ec",
   "metadata": {},
   "source": [
    "### `finditer(string[, pos[, endpos]])`\n",
    "\n",
    "- Finds **all non-overlapping substrings** where the match is found, and returns them as an iterator of the `Match` objects.\n",
    "\n",
    "- Same behaviour of `pos` and `endpos` as the `match()`, `search()` and `findall()` function."
   ]
  },
  {
   "cell_type": "code",
   "execution_count": 17,
   "id": "8244b3ea",
   "metadata": {},
   "outputs": [],
   "source": [
    "matches = pattern.finditer(\"say hello hello\")"
   ]
  },
  {
   "cell_type": "code",
   "execution_count": 18,
   "id": "47d7eb84",
   "metadata": {},
   "outputs": [
    {
     "name": "stdout",
     "output_type": "stream",
     "text": [
      "(4, 9)\n",
      "(10, 15)\n"
     ]
    }
   ],
   "source": [
    "for match in matches:\n",
    "    print(match.span())"
   ]
  },
  {
   "cell_type": "code",
   "execution_count": 19,
   "id": "7b5dcb7c",
   "metadata": {},
   "outputs": [
    {
     "name": "stdout",
     "output_type": "stream",
     "text": [
      "say \u001b[43m\u001b[1mhello\u001b[0m \u001b[43m\u001b[1mhello\u001b[0m\n"
     ]
    }
   ],
   "source": [
    "highlight_regex_matches(pattern, \"say hello hello\")"
   ]
  },
  {
   "cell_type": "markdown",
   "id": "4b86e04c",
   "metadata": {},
   "source": [
    "> By now, you must have noticed that `match()`, `search()` and `finditer()` return `Match` object(s) where as `findall()` returns a list of strings.\n",
    "\n",
    "\n",
    "### Note:\n",
    "\n",
    "It is not mandatory to create a `Pattern` object explicitly using `re.compile()` method in order to perform a regex operation.\n",
    "\n",
    "You can direclty use the module level functions such as:\n",
    "- `re.match(pattern, string, flags=0)`\n",
    "\n",
    "- `re.search(pattern, string, flags=0)`\n",
    "\n",
    "- `re.findall(pattern, string, flags=0)`\n",
    "\n",
    "- `re.finditer(pattern, string, flags=0)`\n",
    "\n",
    "and so on.\n",
    "\n",
    "In a module level function, you can simply pass a **string** as your **regex pattern** as shown in the examples below."
   ]
  },
  {
   "cell_type": "code",
   "execution_count": 20,
   "id": "b5915cb6",
   "metadata": {},
   "outputs": [
    {
     "data": {
      "text/plain": [
       "<re.Match object; span=(0, 5), match='hello'>"
      ]
     },
     "execution_count": 20,
     "metadata": {},
     "output_type": "execute_result"
    }
   ],
   "source": [
    "re.match(\"hello\", \"hello\")"
   ]
  },
  {
   "cell_type": "code",
   "execution_count": 21,
   "id": "8f665f40",
   "metadata": {},
   "outputs": [
    {
     "data": {
      "text/plain": [
       "['hello', 'hello']"
      ]
     },
     "execution_count": 21,
     "metadata": {},
     "output_type": "execute_result"
    }
   ],
   "source": [
    "re.findall(\"hello\", \"say hello hello\")"
   ]
  },
  {
   "cell_type": "markdown",
   "id": "6ed4e5c4",
   "metadata": {},
   "source": [
    "### Important Example\n",
    "\n",
    "Consider the example below:"
   ]
  },
  {
   "cell_type": "code",
   "execution_count": 22,
   "id": "7cad20d9",
   "metadata": {},
   "outputs": [],
   "source": [
    "txt = \"This book costs $15.\""
   ]
  },
  {
   "cell_type": "markdown",
   "id": "7894f83d",
   "metadata": {},
   "source": [
    "Search for the pattern `$15`."
   ]
  },
  {
   "cell_type": "code",
   "execution_count": 23,
   "id": "ab019eb4",
   "metadata": {},
   "outputs": [],
   "source": [
    "pattern = re.compile(\"$15\")"
   ]
  },
  {
   "cell_type": "code",
   "execution_count": 24,
   "id": "3e8629cf",
   "metadata": {},
   "outputs": [],
   "source": [
    "pattern.search(txt)"
   ]
  },
  {
   "cell_type": "markdown",
   "id": "0cdb4dc8",
   "metadata": {},
   "source": [
    "### No match found. Why?\n",
    "\n",
    "`$` is a metacharacter and has a special meaning for regex engine. Here, we want to treat it like a literal.\n",
    "\n",
    "In order to treat a metacharacter like a literal, you need to **escape** it using `\\` character."
   ]
  },
  {
   "cell_type": "code",
   "execution_count": 25,
   "id": "7d531fb1",
   "metadata": {},
   "outputs": [],
   "source": [
    "pattern = re.compile(\"\\$15\")"
   ]
  },
  {
   "cell_type": "code",
   "execution_count": 26,
   "id": "df2721e7",
   "metadata": {},
   "outputs": [
    {
     "data": {
      "text/plain": [
       "<re.Match object; span=(16, 19), match='$15'>"
      ]
     },
     "execution_count": 26,
     "metadata": {},
     "output_type": "execute_result"
    }
   ],
   "source": [
    "pattern.search(txt)"
   ]
  },
  {
   "cell_type": "markdown",
   "id": "1450e1f2",
   "metadata": {},
   "source": [
    "In regular expressions, there are twelve metacharacters that should be escaped if they are to be used with their literal meaning:\n",
    "\n",
    "- Backslash `\\`\n",
    "- Caret `^`\n",
    "- Dollar sign `$`\n",
    "- Dot `.`\n",
    "- Pipe symbol `|`\n",
    "- Question mark `?`\n",
    "- Asterisk `*`\n",
    "- Plus sign `+`\n",
    "- Opening parenthesis `(`\n",
    "- Closing parenthesis `)`\n",
    "- Opening square bracket `[`\n",
    "- The opening curly brace `{`"
   ]
  },
  {
   "cell_type": "markdown",
   "id": "da5ce33f",
   "metadata": {},
   "source": [
    "# Character Classes\n",
    "\n",
    "- The **character classes** (also known as **character sets**) allow us to define a character that will match if any of the defined characters on the set is present.\n",
    "\n",
    "\n",
    "- To define a character class, we should use the opening square bracket metacharacter `[`, then any accepted characters, and finally close with a closing square bracket `]`.\n",
    "\n",
    "### Example 1\n",
    "\n",
    "Consider an example below where we have messed up between `license` and `licence` spellings and want to find all occurances of `license`/`licence` in the text."
   ]
  },
  {
   "cell_type": "code",
   "execution_count": 27,
   "id": "29e63601",
   "metadata": {},
   "outputs": [],
   "source": [
    "txt = \"\"\"\n",
    "Yesterday, I was driving my car without a driving licence. The traffic police stopped me and asked me for my \n",
    "license. I told them that I forgot my licence at home. \n",
    "\"\"\""
   ]
  },
  {
   "cell_type": "code",
   "execution_count": 28,
   "id": "8c3619ac",
   "metadata": {},
   "outputs": [],
   "source": [
    "pattern = re.compile(\"licen[cs]e\")"
   ]
  },
  {
   "cell_type": "code",
   "execution_count": 29,
   "id": "34c7cf44",
   "metadata": {},
   "outputs": [
    {
     "data": {
      "text/plain": [
       "['licence', 'license', 'licence']"
      ]
     },
     "execution_count": 29,
     "metadata": {},
     "output_type": "execute_result"
    }
   ],
   "source": [
    "pattern.findall(txt)"
   ]
  },
  {
   "cell_type": "code",
   "execution_count": 30,
   "id": "7efa8650",
   "metadata": {},
   "outputs": [
    {
     "name": "stdout",
     "output_type": "stream",
     "text": [
      "\n",
      "Yesterday, I was driving my car without a driving \u001b[43m\u001b[1mlicence\u001b[0m. The traffic police stopped me and asked me for my \n",
      "\u001b[43m\u001b[1mlicense\u001b[0m. I told them that I forgot my \u001b[43m\u001b[1mlicence\u001b[0m at home. \n",
      "\n"
     ]
    }
   ],
   "source": [
    "highlight_regex_matches(pattern, txt)"
   ]
  },
  {
   "cell_type": "markdown",
   "id": "66bdcc4e",
   "metadata": {},
   "source": [
    "![](images/example2.png)"
   ]
  },
  {
   "cell_type": "markdown",
   "id": "a402db93",
   "metadata": {},
   "source": [
    "# Character Set Range\n",
    "\n",
    "> It is possible to also use the range of a character. This is done by leveraging the hyphen symbol (-) between two related characters; for example, to match any lowercase letter we can use `[a-z]`. Likewise, to match any single digit we can define the character set `[0-9]`.\n",
    "\n",
    "Let us consider an example in which we want to retrieve all the years from the given text."
   ]
  },
  {
   "cell_type": "code",
   "execution_count": 31,
   "id": "04939862",
   "metadata": {},
   "outputs": [],
   "source": [
    "txt = \"\"\"\n",
    "The first season of Indian Premiere League (IPL) was played in 2008. \n",
    "The second season was played in 2009 in South Africa. \n",
    "Last season was played in 2018 and won by Chennai Super Kings (CSK).\n",
    "CSK won the title in 2010 and 2011 as well.\n",
    "Mumbai Indians (MI) has also won the title 3 times in 2013, 2015 and 2017.\n",
    "\"\"\""
   ]
  },
  {
   "cell_type": "code",
   "execution_count": 32,
   "id": "4fc8376a",
   "metadata": {},
   "outputs": [],
   "source": [
    "pattern = re.compile(\"[1-9][0-9][0-9][0-9]\")"
   ]
  },
  {
   "cell_type": "code",
   "execution_count": 33,
   "id": "439acfc5",
   "metadata": {},
   "outputs": [
    {
     "data": {
      "text/plain": [
       "['2008', '2009', '2018', '2010', '2011', '2013', '2015', '2017']"
      ]
     },
     "execution_count": 33,
     "metadata": {},
     "output_type": "execute_result"
    }
   ],
   "source": [
    "pattern.findall(txt)"
   ]
  },
  {
   "cell_type": "code",
   "execution_count": 34,
   "id": "48eb7a52",
   "metadata": {},
   "outputs": [
    {
     "name": "stdout",
     "output_type": "stream",
     "text": [
      "\n",
      "The first season of Indian Premiere League (IPL) was played in \u001b[43m\u001b[1m2008\u001b[0m. \n",
      "The second season was played in \u001b[43m\u001b[1m2009\u001b[0m in South Africa. \n",
      "Last season was played in \u001b[43m\u001b[1m2018\u001b[0m and won by Chennai Super Kings (CSK).\n",
      "CSK won the title in \u001b[43m\u001b[1m2010\u001b[0m and \u001b[43m\u001b[1m2011\u001b[0m as well.\n",
      "Mumbai Indians (MI) has also won the title 3 times in \u001b[43m\u001b[1m2013\u001b[0m, \u001b[43m\u001b[1m2015\u001b[0m and \u001b[43m\u001b[1m2017\u001b[0m.\n",
      "\n"
     ]
    }
   ],
   "source": [
    "highlight_regex_matches(pattern, txt)"
   ]
  },
  {
   "cell_type": "markdown",
   "id": "de1d1ad2",
   "metadata": {},
   "source": [
    "> There is another possibility—the negation of ranges. We can invert the meaning\n",
    "of a character set by placing a caret (`^`) symbol right after the opening square\n",
    "bracket metacharacter (`[`).\n",
    "\n",
    "For example, to find all the characters used in a text except vowels, we can use the pattern:"
   ]
  },
  {
   "cell_type": "code",
   "execution_count": 35,
   "id": "632edb45",
   "metadata": {},
   "outputs": [],
   "source": [
    "pattern = re.compile(\"[^aeiou]\")"
   ]
  },
  {
   "cell_type": "code",
   "execution_count": 36,
   "id": "4093ed7f",
   "metadata": {
    "scrolled": true
   },
   "outputs": [
    {
     "data": {
      "text/plain": [
       "['\\n',\n",
       " 'T',\n",
       " 'h',\n",
       " ' ',\n",
       " 'f',\n",
       " 'r',\n",
       " 's',\n",
       " 't',\n",
       " ' ',\n",
       " 's',\n",
       " 's',\n",
       " 'n',\n",
       " ' ',\n",
       " 'f',\n",
       " ' ',\n",
       " 'I',\n",
       " 'n',\n",
       " 'd',\n",
       " 'n',\n",
       " ' ',\n",
       " 'P',\n",
       " 'r',\n",
       " 'm',\n",
       " 'r',\n",
       " ' ',\n",
       " 'L',\n",
       " 'g',\n",
       " ' ',\n",
       " '(',\n",
       " 'I',\n",
       " 'P',\n",
       " 'L',\n",
       " ')',\n",
       " ' ',\n",
       " 'w',\n",
       " 's',\n",
       " ' ',\n",
       " 'p',\n",
       " 'l',\n",
       " 'y',\n",
       " 'd',\n",
       " ' ',\n",
       " 'n',\n",
       " ' ',\n",
       " '2',\n",
       " '0',\n",
       " '0',\n",
       " '8',\n",
       " '.',\n",
       " ' ',\n",
       " '\\n',\n",
       " 'T',\n",
       " 'h',\n",
       " ' ',\n",
       " 's',\n",
       " 'c',\n",
       " 'n',\n",
       " 'd',\n",
       " ' ',\n",
       " 's',\n",
       " 's',\n",
       " 'n',\n",
       " ' ',\n",
       " 'w',\n",
       " 's',\n",
       " ' ',\n",
       " 'p',\n",
       " 'l',\n",
       " 'y',\n",
       " 'd',\n",
       " ' ',\n",
       " 'n',\n",
       " ' ',\n",
       " '2',\n",
       " '0',\n",
       " '0',\n",
       " '9',\n",
       " ' ',\n",
       " 'n',\n",
       " ' ',\n",
       " 'S',\n",
       " 't',\n",
       " 'h',\n",
       " ' ',\n",
       " 'A',\n",
       " 'f',\n",
       " 'r',\n",
       " 'c',\n",
       " '.',\n",
       " ' ',\n",
       " '\\n',\n",
       " 'L',\n",
       " 's',\n",
       " 't',\n",
       " ' ',\n",
       " 's',\n",
       " 's',\n",
       " 'n',\n",
       " ' ',\n",
       " 'w',\n",
       " 's',\n",
       " ' ',\n",
       " 'p',\n",
       " 'l',\n",
       " 'y',\n",
       " 'd',\n",
       " ' ',\n",
       " 'n',\n",
       " ' ',\n",
       " '2',\n",
       " '0',\n",
       " '1',\n",
       " '8',\n",
       " ' ',\n",
       " 'n',\n",
       " 'd',\n",
       " ' ',\n",
       " 'w',\n",
       " 'n',\n",
       " ' ',\n",
       " 'b',\n",
       " 'y',\n",
       " ' ',\n",
       " 'C',\n",
       " 'h',\n",
       " 'n',\n",
       " 'n',\n",
       " ' ',\n",
       " 'S',\n",
       " 'p',\n",
       " 'r',\n",
       " ' ',\n",
       " 'K',\n",
       " 'n',\n",
       " 'g',\n",
       " 's',\n",
       " ' ',\n",
       " '(',\n",
       " 'C',\n",
       " 'S',\n",
       " 'K',\n",
       " ')',\n",
       " '.',\n",
       " '\\n',\n",
       " 'C',\n",
       " 'S',\n",
       " 'K',\n",
       " ' ',\n",
       " 'w',\n",
       " 'n',\n",
       " ' ',\n",
       " 't',\n",
       " 'h',\n",
       " ' ',\n",
       " 't',\n",
       " 't',\n",
       " 'l',\n",
       " ' ',\n",
       " 'n',\n",
       " ' ',\n",
       " '2',\n",
       " '0',\n",
       " '1',\n",
       " '0',\n",
       " ' ',\n",
       " 'n',\n",
       " 'd',\n",
       " ' ',\n",
       " '2',\n",
       " '0',\n",
       " '1',\n",
       " '1',\n",
       " ' ',\n",
       " 's',\n",
       " ' ',\n",
       " 'w',\n",
       " 'l',\n",
       " 'l',\n",
       " '.',\n",
       " '\\n',\n",
       " 'M',\n",
       " 'm',\n",
       " 'b',\n",
       " ' ',\n",
       " 'I',\n",
       " 'n',\n",
       " 'd',\n",
       " 'n',\n",
       " 's',\n",
       " ' ',\n",
       " '(',\n",
       " 'M',\n",
       " 'I',\n",
       " ')',\n",
       " ' ',\n",
       " 'h',\n",
       " 's',\n",
       " ' ',\n",
       " 'l',\n",
       " 's',\n",
       " ' ',\n",
       " 'w',\n",
       " 'n',\n",
       " ' ',\n",
       " 't',\n",
       " 'h',\n",
       " ' ',\n",
       " 't',\n",
       " 't',\n",
       " 'l',\n",
       " ' ',\n",
       " '3',\n",
       " ' ',\n",
       " 't',\n",
       " 'm',\n",
       " 's',\n",
       " ' ',\n",
       " 'n',\n",
       " ' ',\n",
       " '2',\n",
       " '0',\n",
       " '1',\n",
       " '3',\n",
       " ',',\n",
       " ' ',\n",
       " '2',\n",
       " '0',\n",
       " '1',\n",
       " '5',\n",
       " ' ',\n",
       " 'n',\n",
       " 'd',\n",
       " ' ',\n",
       " '2',\n",
       " '0',\n",
       " '1',\n",
       " '7',\n",
       " '.',\n",
       " '\\n']"
      ]
     },
     "execution_count": 36,
     "metadata": {},
     "output_type": "execute_result"
    }
   ],
   "source": [
    "pattern.findall(txt)"
   ]
  },
  {
   "cell_type": "markdown",
   "id": "9fb9d27c",
   "metadata": {},
   "source": [
    "# Predefined Character Classes\n",
    "\n",
    "There exist some predefined character classes which can be used as a shortcut for some frequently used classes.\n",
    "\n",
    "\n",
    "<table style=\"border: 1px solid black; font-size:15px;\">\n",
    "<thead>\n",
    "    <th>Element</th>\n",
    "    <th>Description</th>\n",
    "</thead>\n",
    "    \n",
    "<tbody>\n",
    "<tr>\n",
    "    <td>.</td>\n",
    "    <td>This element matches any character except newline</td>\n",
    "</tr>\n",
    "\n",
    "<tr>\n",
    "    <td>\\d</td>\n",
    "    <td>This matches any decimal digit; this is equivalent to the class [0-9]</td>\n",
    "</tr>\n",
    "\n",
    "<tr>\n",
    "    <td>\\D</td>\n",
    "    <td>This matches any non-digit character; this is equivalent to the class [^0-9]</td>\n",
    "</tr>\n",
    "\n",
    "<tr>\n",
    "    <td>\\s</td>\n",
    "    <td>This matches any whitespace character; this is equivalent to the class\n",
    "[ \\t\\n\\r\\f\\v]</td>\n",
    "</tr>\n",
    "\n",
    "<tr>\n",
    "    <td>\\S</td>\n",
    "    <td>This matches any non-whitespace character; this is equivalent to the class\n",
    "[^ \\t\\n\\r\\f\\v]</td>\n",
    "</tr>\n",
    "\n",
    "<tr>\n",
    "    <td>\\w</td>\n",
    "    <td>This matches any alphanumeric character; this is equivalent to the class\n",
    "[a-zA-Z0-9_]</td>\n",
    "</tr>\n",
    "    \n",
    "<tr>\n",
    "    <td>\\W</td>\n",
    "    <td>This matches any non-alphanumeric character; this is equivalent to the\n",
    "class [^a-zA-Z0-9_]</td>\n",
    "</tr>\n",
    "</tbody>\n",
    "</table>\n",
    "\n",
    "\n",
    "Now, we can improve our pattern to find years in a given text a bit:"
   ]
  },
  {
   "cell_type": "code",
   "execution_count": 37,
   "id": "82877487",
   "metadata": {},
   "outputs": [],
   "source": [
    "pattern = re.compile(\"[1-9]\\d\\d\\d\")"
   ]
  },
  {
   "cell_type": "code",
   "execution_count": 38,
   "id": "0d8a30e4",
   "metadata": {},
   "outputs": [
    {
     "data": {
      "text/plain": [
       "['2008', '2009', '2018', '2010', '2011', '2013', '2015', '2017']"
      ]
     },
     "execution_count": 38,
     "metadata": {},
     "output_type": "execute_result"
    }
   ],
   "source": [
    "pattern.findall(txt)"
   ]
  },
  {
   "cell_type": "markdown",
   "id": "92d39eed",
   "metadata": {},
   "source": [
    "Let us try to find out all special symbols (non-alphanumeric, non-whitespace characters) in our text now."
   ]
  },
  {
   "cell_type": "code",
   "execution_count": 39,
   "id": "fd86282f",
   "metadata": {
    "scrolled": true
   },
   "outputs": [
    {
     "data": {
      "text/plain": [
       "['(', ')', '.', '.', '(', ')', '.', '.', '(', ')', ',', '.']"
      ]
     },
     "execution_count": 39,
     "metadata": {},
     "output_type": "execute_result"
    }
   ],
   "source": [
    "re.findall(\"[^\\w\\s]\", txt)"
   ]
  },
  {
   "cell_type": "markdown",
   "id": "e112f82b",
   "metadata": {},
   "source": [
    "# The Backslash Plague\n",
    "\n",
    "Let's start with an example.\n",
    "\n",
    "Consider a text containing some Windows style directory addresses in which we have to find `C:\\Windows\\System32` substring."
   ]
  },
  {
   "cell_type": "code",
   "execution_count": 40,
   "id": "fee971de",
   "metadata": {},
   "outputs": [],
   "source": [
    "txt = \"\"\"\n",
    "C:\\Windows\n",
    "C:\\Python\n",
    "C:\\Windows\\System32\n",
    "\"\"\""
   ]
  },
  {
   "cell_type": "code",
   "execution_count": 41,
   "id": "6d7591c0",
   "metadata": {},
   "outputs": [],
   "source": [
    "pattern = re.compile(\"C:\\Windows\\System32\")"
   ]
  },
  {
   "cell_type": "code",
   "execution_count": 42,
   "id": "7fd4a8ab",
   "metadata": {},
   "outputs": [],
   "source": [
    "pattern.search(txt)"
   ]
  },
  {
   "cell_type": "markdown",
   "id": "3bd0cda2",
   "metadata": {},
   "source": [
    "### Why are no matches found for above pattern?\n",
    "\n",
    "Regex Engine is treateing `\\` as metacharacters, whereas we intend to treat it like a literal.\n",
    "\n",
    "### Solution???\n",
    "\n",
    "We need to escape the metacharacters. A metacharacter can be escaped by putting a `\\` before it."
   ]
  },
  {
   "cell_type": "code",
   "execution_count": 43,
   "id": "6a93e92e",
   "metadata": {},
   "outputs": [],
   "source": [
    "pattern = re.compile(\"C:\\\\Windows\\\\System32\")"
   ]
  },
  {
   "cell_type": "code",
   "execution_count": 44,
   "id": "b39ddc79",
   "metadata": {},
   "outputs": [],
   "source": [
    "pattern.search(txt)"
   ]
  },
  {
   "cell_type": "code",
   "execution_count": 45,
   "id": "e14c4f6b",
   "metadata": {},
   "outputs": [
    {
     "name": "stdout",
     "output_type": "stream",
     "text": [
      "C:\\Windows\\System32\n"
     ]
    }
   ],
   "source": [
    "print(\"C:\\\\Windows\\\\System32\")"
   ]
  },
  {
   "cell_type": "markdown",
   "id": "dc04e988",
   "metadata": {},
   "source": [
    "### Still no match found. Why???\n",
    "\n",
    "`\\` is used as an escape at two different levels. \n",
    "\n",
    "- First, the Python interpreter itself performs substitutions for `\\` before the `re` module ever sees the pattern string. For instance, `\\n` is converted to a newline character, `\\t` is converted to a tab character, etc. \n",
    "\n",
    "- Finally, `re` reads the substituted pattern string and will apply its own substitutions for `\\` character. \n",
    "\n",
    "Hence, to use `\\` as a **literal**, we first escape `\\` with `\\\\` for python interpreter and then escape `\\\\` as `\\\\\\\\` for regex engine."
   ]
  },
  {
   "cell_type": "code",
   "execution_count": 46,
   "id": "b5715b6b",
   "metadata": {},
   "outputs": [],
   "source": [
    "pattern = re.compile(\"C:\\\\\\\\Windows\\\\\\\\System32\")"
   ]
  },
  {
   "cell_type": "code",
   "execution_count": 47,
   "id": "c5b81d95",
   "metadata": {},
   "outputs": [
    {
     "data": {
      "text/plain": [
       "<re.Match object; span=(22, 41), match='C:\\\\Windows\\\\System32'>"
      ]
     },
     "execution_count": 47,
     "metadata": {},
     "output_type": "execute_result"
    }
   ],
   "source": [
    "pattern.search(txt)"
   ]
  },
  {
   "cell_type": "markdown",
   "id": "895b9bef",
   "metadata": {},
   "source": [
    "### Can we use 2 backslashes instead of 4 here?\n",
    "\n",
    "Yes. By using **raw-strings**, we do not need to put escapes at first level. \n",
    "\n",
    "> Python raw strings are represented as ***r\"your string\"***. In raw strings, no escaping is required as escape sequences like `\\n`, `\\t`, etc are not processed."
   ]
  },
  {
   "cell_type": "code",
   "execution_count": 48,
   "id": "790175d6",
   "metadata": {},
   "outputs": [],
   "source": [
    "pattern = re.compile(r\"C:\\\\Windows\\\\System32\")"
   ]
  },
  {
   "cell_type": "code",
   "execution_count": 49,
   "id": "8fb1be19",
   "metadata": {},
   "outputs": [
    {
     "data": {
      "text/plain": [
       "<re.Match object; span=(22, 41), match='C:\\\\Windows\\\\System32'>"
      ]
     },
     "execution_count": 49,
     "metadata": {},
     "output_type": "execute_result"
    }
   ],
   "source": [
    "pattern.search(txt)"
   ]
  },
  {
   "cell_type": "markdown",
   "id": "70db973a",
   "metadata": {},
   "source": [
    "### Do we really need to use 2 backslashes?\n",
    "\n",
    "If you are **not using any metacharacters** in your regex pattern, you can use `re.escape()` method to escape all the characters in pattern except ASCII letters, numbers and '_'."
   ]
  },
  {
   "cell_type": "code",
   "execution_count": 50,
   "id": "f93218d6",
   "metadata": {},
   "outputs": [
    {
     "data": {
      "text/plain": [
       "'C:\\\\\\\\Windows\\\\\\\\System32'"
      ]
     },
     "execution_count": 50,
     "metadata": {},
     "output_type": "execute_result"
    }
   ],
   "source": [
    "re.escape(\"C:\\Windows\\System32\")"
   ]
  },
  {
   "cell_type": "code",
   "execution_count": 51,
   "id": "177d0816",
   "metadata": {},
   "outputs": [
    {
     "data": {
      "text/plain": [
       "<re.Match object; span=(22, 41), match='C:\\\\Windows\\\\System32'>"
      ]
     },
     "execution_count": 51,
     "metadata": {},
     "output_type": "execute_result"
    }
   ],
   "source": [
    "re.search(re.escape(\"C:\\Windows\\System32\"), txt)"
   ]
  },
  {
   "cell_type": "markdown",
   "id": "7497ecf0",
   "metadata": {},
   "source": [
    "# Alteration\n",
    "\n",
    "Just like character classes are used to match a single character out of several possible characters, **alternation** is used to match a single regular expression out of several possible regular expressions.\n",
    "\n",
    "This is accomplished using the pipe symbol `|`.\n",
    "\n",
    "Consider a scenario where you want to find all occurances of `and`, `or`, `the` in a given text.\n",
    "\n",
    "> One way is to write and execute 3 separate regular expressions. Using alteration, it can be done in a single regular expression!"
   ]
  },
  {
   "cell_type": "code",
   "execution_count": 52,
   "id": "7fd81dac",
   "metadata": {},
   "outputs": [],
   "source": [
    "txt = \"\"\"\n",
    "the most common conjunctions are and, or and but.\n",
    "\"\"\""
   ]
  },
  {
   "cell_type": "code",
   "execution_count": 53,
   "id": "2ec11b00",
   "metadata": {},
   "outputs": [],
   "source": [
    "pattern = re.compile(\"and|or|the\")"
   ]
  },
  {
   "cell_type": "code",
   "execution_count": 54,
   "id": "c05b8a4c",
   "metadata": {},
   "outputs": [
    {
     "data": {
      "text/plain": [
       "['the', 'and', 'or', 'and']"
      ]
     },
     "execution_count": 54,
     "metadata": {},
     "output_type": "execute_result"
    }
   ],
   "source": [
    "pattern.findall(txt)"
   ]
  },
  {
   "cell_type": "markdown",
   "id": "85ed9d5d",
   "metadata": {},
   "source": [
    "Consider one more example now in which we want to search the substrings `What is` and `Who is`."
   ]
  },
  {
   "cell_type": "code",
   "execution_count": 57,
   "id": "0f056828",
   "metadata": {},
   "outputs": [],
   "source": [
    "txt = \"\"\"\n",
    "What is your name?\n",
    "Who is that guy?\n",
    "\"\"\""
   ]
  },
  {
   "cell_type": "code",
   "execution_count": 58,
   "id": "7b0ec706",
   "metadata": {},
   "outputs": [],
   "source": [
    "pattern = re.compile(\"What|Who is\")"
   ]
  },
  {
   "cell_type": "code",
   "execution_count": 59,
   "id": "7bc24902",
   "metadata": {},
   "outputs": [
    {
     "name": "stdout",
     "output_type": "stream",
     "text": [
      "\n",
      "\u001b[43m\u001b[1mWhat\u001b[0m is your name?\n",
      "\u001b[43m\u001b[1mWho is\u001b[0m that guy?\n",
      "\n"
     ]
    }
   ],
   "source": [
    "highlight_regex_matches(pattern, txt)"
   ]
  },
  {
   "cell_type": "markdown",
   "id": "b26744ef",
   "metadata": {},
   "source": [
    "`What|Who is` regex pattern actually matches substrings `What` and `Who is`.\n",
    "\n",
    "To get the desired result, we need to wrap the optional regular expressions using **paranthesis**."
   ]
  },
  {
   "cell_type": "code",
   "execution_count": 60,
   "id": "dc700db5",
   "metadata": {},
   "outputs": [],
   "source": [
    "pattern = re.compile(\"(What|Who) is\")"
   ]
  },
  {
   "cell_type": "code",
   "execution_count": 61,
   "id": "2700769e",
   "metadata": {},
   "outputs": [
    {
     "name": "stdout",
     "output_type": "stream",
     "text": [
      "\n",
      "\u001b[43m\u001b[1mWhat is\u001b[0m your name?\n",
      "\u001b[43m\u001b[1mWho is\u001b[0m that guy?\n",
      "\n"
     ]
    }
   ],
   "source": [
    "highlight_regex_matches(pattern, txt)"
   ]
  },
  {
   "cell_type": "markdown",
   "id": "fada2f52",
   "metadata": {},
   "source": [
    "# Quantifiers\n",
    "\n",
    "**Quantifiers** are the mechanisms to define how a **character**, **metacharacter**, or **character set** can be **repeated**.\n",
    "\n",
    "Here is the list of 4 basic quantifers:\n",
    "\n",
    "<table style=\"border: 1px solid black; font-size:15px;\">\n",
    "<thead>\n",
    "    <th>Symbol</th>\n",
    "    <th>Name</th>\n",
    "    <th>Quantification of previous character</th>\n",
    "</thead>\n",
    "    \n",
    "<tbody>\n",
    "<tr>\n",
    "    <td>?</td>\n",
    "    <td>Question Mark</td>\n",
    "    <td>Optional (0 or 1 repetitions)</td>\n",
    "</tr>\n",
    "    \n",
    "<tr>\n",
    "    <td>*</td>\n",
    "    <td>Asterisk</td>\n",
    "    <td>Zero or more times</td>\n",
    "</tr>\n",
    "\n",
    "<tr>\n",
    "    <td>+</td>\n",
    "    <td>Plus Sign</td>\n",
    "    <td>One or more times</td>\n",
    "</tr>\n",
    "\n",
    "<tr>\n",
    "    <td>{n,m}</td>\n",
    "    <td>Curly Braces</td>\n",
    "    <td>Between n and m times</td>\n",
    "</tr>\n",
    "</tbody>\n",
    "</table>\n",
    "\n",
    "\n",
    "Let us go through different examples to understand them one by one.\n",
    "\n",
    "### Example 1\n",
    "\n",
    "Find all the matches for `dog` and `dogs` in the given text."
   ]
  },
  {
   "cell_type": "code",
   "execution_count": 62,
   "id": "98610014",
   "metadata": {},
   "outputs": [],
   "source": [
    "txt = \"\"\"\n",
    "I have 2 dogs. One dog is 1 year old and other one is 2 years old. Both dogs are very cute! \n",
    "\"\"\""
   ]
  },
  {
   "cell_type": "code",
   "execution_count": 63,
   "id": "08429401",
   "metadata": {},
   "outputs": [],
   "source": [
    "pattern = re.compile(\"dogs?\")"
   ]
  },
  {
   "cell_type": "code",
   "execution_count": 64,
   "id": "53656ec7",
   "metadata": {},
   "outputs": [
    {
     "data": {
      "text/plain": [
       "['dogs', 'dog', 'dogs']"
      ]
     },
     "execution_count": 64,
     "metadata": {},
     "output_type": "execute_result"
    }
   ],
   "source": [
    "pattern.findall(txt)"
   ]
  },
  {
   "cell_type": "code",
   "execution_count": 65,
   "id": "9316079e",
   "metadata": {},
   "outputs": [
    {
     "name": "stdout",
     "output_type": "stream",
     "text": [
      "\n",
      "I have 2 \u001b[43m\u001b[1mdogs\u001b[0m. One \u001b[43m\u001b[1mdog\u001b[0m is 1 year old and other one is 2 years old. Both \u001b[43m\u001b[1mdogs\u001b[0m are very cute! \n",
      "\n"
     ]
    }
   ],
   "source": [
    "highlight_regex_matches(pattern, txt)"
   ]
  },
  {
   "cell_type": "markdown",
   "id": "942473b7",
   "metadata": {},
   "source": [
    "### Example 2\n",
    "\n",
    "Find all filenames starting with `file` and ending with `.txt` in the given text."
   ]
  },
  {
   "cell_type": "code",
   "execution_count": 66,
   "id": "01febe59",
   "metadata": {},
   "outputs": [],
   "source": [
    "txt = \"\"\"\n",
    "file1.txt\n",
    "file_one.txt\n",
    "file.txt\n",
    "fil.txt\n",
    "file.xml\n",
    "file-1.txt\n",
    "\"\"\""
   ]
  },
  {
   "cell_type": "code",
   "execution_count": 67,
   "id": "8b30830e",
   "metadata": {},
   "outputs": [],
   "source": [
    "pattern = re.compile(\"file[\\w-]*\\.txt\")"
   ]
  },
  {
   "cell_type": "code",
   "execution_count": 68,
   "id": "424dea31",
   "metadata": {},
   "outputs": [
    {
     "data": {
      "text/plain": [
       "['file1.txt', 'file_one.txt', 'file.txt', 'file-1.txt']"
      ]
     },
     "execution_count": 68,
     "metadata": {},
     "output_type": "execute_result"
    }
   ],
   "source": [
    "pattern.findall(txt)"
   ]
  },
  {
   "cell_type": "code",
   "execution_count": 69,
   "id": "35f0a3e8",
   "metadata": {},
   "outputs": [
    {
     "name": "stdout",
     "output_type": "stream",
     "text": [
      "\n",
      "\u001b[43m\u001b[1mfile1.txt\u001b[0m\n",
      "\u001b[43m\u001b[1mfile_one.txt\u001b[0m\n",
      "\u001b[43m\u001b[1mfile.txt\u001b[0m\n",
      "fil.txt\n",
      "file.xml\n",
      "\u001b[43m\u001b[1mfile-1.txt\u001b[0m\n",
      "\n"
     ]
    }
   ],
   "source": [
    "highlight_regex_matches(pattern, txt)"
   ]
  },
  {
   "cell_type": "markdown",
   "id": "b9aa4e99",
   "metadata": {},
   "source": [
    "### Example 3\n",
    "\n",
    "Find all filenames starting with `file` followed by 1 or more digits and ending with `.txt` in the given text."
   ]
  },
  {
   "cell_type": "code",
   "execution_count": 70,
   "id": "bd22a9e0",
   "metadata": {},
   "outputs": [],
   "source": [
    "txt = \"\"\"\n",
    "file1.txt\n",
    "file_one.txt\n",
    "file09.txt\n",
    "fil.txt\n",
    "file23.xml\n",
    "file.txt\n",
    "\"\"\""
   ]
  },
  {
   "cell_type": "code",
   "execution_count": 71,
   "id": "ee808051",
   "metadata": {},
   "outputs": [],
   "source": [
    "pattern = re.compile(\"file\\d+\\.txt\")"
   ]
  },
  {
   "cell_type": "code",
   "execution_count": 72,
   "id": "df6a14ed",
   "metadata": {},
   "outputs": [
    {
     "data": {
      "text/plain": [
       "['file1.txt', 'file09.txt']"
      ]
     },
     "execution_count": 72,
     "metadata": {},
     "output_type": "execute_result"
    }
   ],
   "source": [
    "pattern.findall(txt)"
   ]
  },
  {
   "cell_type": "code",
   "execution_count": 73,
   "id": "47ec37ed",
   "metadata": {},
   "outputs": [
    {
     "name": "stdout",
     "output_type": "stream",
     "text": [
      "\n",
      "\u001b[43m\u001b[1mfile1.txt\u001b[0m\n",
      "file_one.txt\n",
      "\u001b[43m\u001b[1mfile09.txt\u001b[0m\n",
      "fil.txt\n",
      "file23.xml\n",
      "file.txt\n",
      "\n"
     ]
    }
   ],
   "source": [
    "highlight_regex_matches(pattern, txt)"
   ]
  },
  {
   "cell_type": "markdown",
   "id": "742e0496",
   "metadata": {},
   "source": [
    "We can use the curly brackets syntax here with these modifications:\n",
    "\n",
    "<table style=\"border: 1px solid black; font-size:15px;\">\n",
    "<thead>\n",
    "    <th>Syntax</th>\n",
    "    <th>Description</th>\n",
    "</thead>\n",
    "    \n",
    "<tbody>\n",
    "<tr>\n",
    "    <td>{n}</td>\n",
    "    <td>The previous character is repeated exactly n times.</td>\n",
    "</tr>\n",
    "    \n",
    "<tr>\n",
    "    <td>{n,}</td>\n",
    "    <td>The previous character is repeated at least n times.</td>\n",
    "</tr>\n",
    "\n",
    "<tr>\n",
    "    <td>{,n}</td>\n",
    "    <td>The previous character is repeated at most n times.</td>\n",
    "</tr>\n",
    "\n",
    "<tr>\n",
    "    <td>{n,m}</td>\n",
    "    <td>The previous character is repeated between n and m times (both inclusive).</td>\n",
    "</tr>\n",
    "</tbody>\n",
    "</table>\n",
    "\n",
    "### Example 4\n",
    "\n",
    "Find years in the given text.\n"
   ]
  },
  {
   "cell_type": "code",
   "execution_count": 74,
   "id": "1657332c",
   "metadata": {},
   "outputs": [],
   "source": [
    "txt = \"\"\"\n",
    "The first season of Indian Premiere League (IPL) was played in 2008. \n",
    "The second season was played in 2009 in South Africa. \n",
    "Last season was played in 2018 and won by Chennai Super Kings (CSK).\n",
    "CSK won the title in 2010 and 2011 as well.\n",
    "Mumbai Indians (MI) has also won the title 3 times in 2013, 2015 and 2017.\n",
    "\"\"\""
   ]
  },
  {
   "cell_type": "code",
   "execution_count": 75,
   "id": "6520bddd",
   "metadata": {},
   "outputs": [],
   "source": [
    "pattern = re.compile(\"\\d{4}\")"
   ]
  },
  {
   "cell_type": "code",
   "execution_count": 76,
   "id": "42cd48d6",
   "metadata": {},
   "outputs": [
    {
     "data": {
      "text/plain": [
       "['2008', '2009', '2018', '2010', '2011', '2013', '2015', '2017']"
      ]
     },
     "execution_count": 76,
     "metadata": {},
     "output_type": "execute_result"
    }
   ],
   "source": [
    "pattern.findall(txt)"
   ]
  },
  {
   "cell_type": "markdown",
   "id": "7d4a805b",
   "metadata": {},
   "source": [
    "### Example 5\n",
    "\n",
    "In the given text, filter out all 4 or more digit numbers."
   ]
  },
  {
   "cell_type": "code",
   "execution_count": 77,
   "id": "5cead0a8",
   "metadata": {},
   "outputs": [],
   "source": [
    "txt = \"\"\"\n",
    "123143\n",
    "432\n",
    "5657\n",
    "4435\n",
    "54\n",
    "65111\n",
    "\"\"\""
   ]
  },
  {
   "cell_type": "code",
   "execution_count": 78,
   "id": "c09f8664",
   "metadata": {},
   "outputs": [],
   "source": [
    "pattern = re.compile(\"\\d{4,}\")"
   ]
  },
  {
   "cell_type": "code",
   "execution_count": 79,
   "id": "90c05126",
   "metadata": {},
   "outputs": [
    {
     "data": {
      "text/plain": [
       "['123143', '5657', '4435', '65111']"
      ]
     },
     "execution_count": 79,
     "metadata": {},
     "output_type": "execute_result"
    }
   ],
   "source": [
    "re.findall(pattern, txt)"
   ]
  },
  {
   "cell_type": "markdown",
   "id": "03698dd9",
   "metadata": {},
   "source": [
    "### Example 6\n",
    "\n",
    "Write a pattern to validate telephone numbers.\n",
    "\n",
    "Telephone numbers can be of the form: `555-555-5555`, `555 555 5555`, `5555555555`"
   ]
  },
  {
   "cell_type": "code",
   "execution_count": 80,
   "id": "0f638b88",
   "metadata": {},
   "outputs": [],
   "source": [
    "txt = \"\"\"\n",
    "555-555-5555\n",
    "555 555 5555\n",
    "5555555555\n",
    "\"\"\""
   ]
  },
  {
   "cell_type": "code",
   "execution_count": 81,
   "id": "213e1643",
   "metadata": {},
   "outputs": [],
   "source": [
    "pattern = re.compile(\"\\d{3}[-\\s]?\\d{3}[-\\s]?\\d{4}\")"
   ]
  },
  {
   "cell_type": "code",
   "execution_count": 82,
   "id": "d3b05e48",
   "metadata": {},
   "outputs": [
    {
     "data": {
      "text/plain": [
       "['555-555-5555', '555 555 5555', '5555555555']"
      ]
     },
     "execution_count": 82,
     "metadata": {},
     "output_type": "execute_result"
    }
   ],
   "source": [
    "pattern.findall(txt)"
   ]
  },
  {
   "cell_type": "markdown",
   "id": "4fbdd9c7",
   "metadata": {},
   "source": [
    "# Greedy Behaviour\n",
    "\n",
    "Let's consider an example."
   ]
  },
  {
   "cell_type": "code",
   "execution_count": 83,
   "id": "56300274",
   "metadata": {},
   "outputs": [],
   "source": [
    "txt = \"\"\"<html><head><title>Title</title>\"\"\""
   ]
  },
  {
   "cell_type": "code",
   "execution_count": 84,
   "id": "2b768a33",
   "metadata": {},
   "outputs": [],
   "source": [
    "pattern = re.compile(\"<.*>\")"
   ]
  },
  {
   "cell_type": "code",
   "execution_count": 85,
   "id": "dd6204c4",
   "metadata": {
    "scrolled": true
   },
   "outputs": [
    {
     "data": {
      "text/plain": [
       "['<html><head><title>Title</title>']"
      ]
     },
     "execution_count": 85,
     "metadata": {},
     "output_type": "execute_result"
    }
   ],
   "source": [
    "pattern.findall(txt)"
   ]
  },
  {
   "cell_type": "markdown",
   "id": "bebd2482",
   "metadata": {},
   "source": [
    "In above example, one may expect to get 4 matches, i.e. `<html>`, `<head>`, `<title>` and `</title>`. Instead, we get the longest match, i.e. `<html><head><title>Title</title>`.\n",
    "\n",
    "This particular behaviour (to find longest match) is called **greedy** behaviour.\n",
    "\n",
    "> The greedy behavior of the quantifiers is applied by default in the quantifiers. A greedy quantifier will try to match as much as possible to have the biggest match result possible.\n",
    "\n",
    "# Non-Greedy behaviour\n",
    "\n",
    "The **non-greedy** (or **reluctant**) behaviour can be requested by adding an extra question mark to the quantifier.\n",
    "\n",
    "For example, `??`, `*?` or `+?`. \n",
    "\n",
    "> A quantifier marked as reluctant will behave like the exact opposite of the greedy ones. They will try to have the smallest match possible."
   ]
  },
  {
   "cell_type": "code",
   "execution_count": 86,
   "id": "bf9c5ca0",
   "metadata": {},
   "outputs": [],
   "source": [
    "pattern = re.compile(\"<.*?>\")"
   ]
  },
  {
   "cell_type": "code",
   "execution_count": 87,
   "id": "ceef9d2c",
   "metadata": {
    "scrolled": true
   },
   "outputs": [
    {
     "data": {
      "text/plain": [
       "['<html>', '<head>', '<title>', '</title>']"
      ]
     },
     "execution_count": 87,
     "metadata": {},
     "output_type": "execute_result"
    }
   ],
   "source": [
    "pattern.findall(txt)"
   ]
  },
  {
   "cell_type": "markdown",
   "id": "a43f88f0",
   "metadata": {},
   "source": [
    "# Boundary Matchers\n",
    "\n",
    "Consider a scenario where you want to find all occurances of `and`, `or` and `the` in the given text."
   ]
  },
  {
   "cell_type": "code",
   "execution_count": 88,
   "id": "c1cd16ff",
   "metadata": {},
   "outputs": [],
   "source": [
    "txt = \"\"\"\n",
    "Lorem Ipsum is simply dummy text of the printing and typesetting industry. \n",
    "Lorem Ipsum has been the industry's standard dummy text ever since the 1500s, \n",
    "when an unknown printer took a galley of type and scrambled it to make a type specimen book. \n",
    "It has survived not only five centuries, but also the leap into electronic typesetting, \n",
    "remaining essentially unchanged. \n",
    "It was popularised in the 1960s with the release of Letraset sheets containing Lorem Ipsum passages, \n",
    "and more recently with desktop publishing software like Aldus PageMaker including versions of Lorem Ipsum.\n",
    "\"\"\""
   ]
  },
  {
   "cell_type": "code",
   "execution_count": 89,
   "id": "9fcc100c",
   "metadata": {},
   "outputs": [],
   "source": [
    "pattern = re.compile(\"and|or|the\")"
   ]
  },
  {
   "cell_type": "code",
   "execution_count": 90,
   "id": "c4701542",
   "metadata": {},
   "outputs": [
    {
     "data": {
      "text/plain": [
       "['or',\n",
       " 'the',\n",
       " 'and',\n",
       " 'or',\n",
       " 'the',\n",
       " 'and',\n",
       " 'the',\n",
       " 'and',\n",
       " 'the',\n",
       " 'the',\n",
       " 'the',\n",
       " 'or',\n",
       " 'and',\n",
       " 'or',\n",
       " 'or']"
      ]
     },
     "execution_count": 90,
     "metadata": {},
     "output_type": "execute_result"
    }
   ],
   "source": [
    "pattern.findall(txt)"
   ]
  },
  {
   "cell_type": "code",
   "execution_count": 91,
   "id": "61ca4ac0",
   "metadata": {},
   "outputs": [
    {
     "name": "stdout",
     "output_type": "stream",
     "text": [
      "\n",
      "L\u001b[43m\u001b[1mor\u001b[0mem Ipsum is simply dummy text of \u001b[43m\u001b[1mthe\u001b[0m printing \u001b[43m\u001b[1mand\u001b[0m typesetting industry. \n",
      "L\u001b[43m\u001b[1mor\u001b[0mem Ipsum has been \u001b[43m\u001b[1mthe\u001b[0m industry's st\u001b[43m\u001b[1mand\u001b[0mard dummy text ever since \u001b[43m\u001b[1mthe\u001b[0m 1500s, \n",
      "when an unknown printer took a galley of type \u001b[43m\u001b[1mand\u001b[0m scrambled it to make a type specimen book. \n",
      "It has survived not only five centuries, but also \u001b[43m\u001b[1mthe\u001b[0m leap into electronic typesetting, \n",
      "remaining essentially unchanged. \n",
      "It was popularised in \u001b[43m\u001b[1mthe\u001b[0m 1960s with \u001b[43m\u001b[1mthe\u001b[0m release of Letraset sheets containing L\u001b[43m\u001b[1mor\u001b[0mem Ipsum passages, \n",
      "\u001b[43m\u001b[1mand\u001b[0m m\u001b[43m\u001b[1mor\u001b[0me recently with desktop publishing software like Aldus PageMaker including versions of L\u001b[43m\u001b[1mor\u001b[0mem Ipsum.\n",
      "\n"
     ]
    }
   ],
   "source": [
    "highlight_regex_matches(pattern, txt)"
   ]
  },
  {
   "cell_type": "markdown",
   "id": "70adeb7e",
   "metadata": {},
   "source": [
    "There is a slight problem with the above pattern. `and`, `or`, `the` inside the words are also counted as a match where as we want to find individual strings containing `and`, `or`, `the` only.\n",
    "\n",
    "### What is the solution?\n",
    "\n",
    "Solution is to use this pattern:\n",
    "\n",
    "`\\b(and|or|the)\\b`\n",
    "\n",
    "where `\\b` is a metacharacter that matches at a position that is called a **word boundary**. \n",
    "\n",
    "Such identifiers that correspond to a particular position inside of the input are called **Boundary Matchers**.\n",
    "\n",
    "**Note:** Since `\\b` is also an escape sequence for strings in Python, we need to escape it using `\\`, i.e. `\\\\b`,  in order to treat it like a metacharacter for regex matching."
   ]
  },
  {
   "cell_type": "code",
   "execution_count": 92,
   "id": "70207596",
   "metadata": {},
   "outputs": [],
   "source": [
    "pattern = re.compile(\"\\\\b(and|or|the)\\\\b\")"
   ]
  },
  {
   "cell_type": "code",
   "execution_count": 93,
   "id": "1cba9864",
   "metadata": {},
   "outputs": [
    {
     "name": "stdout",
     "output_type": "stream",
     "text": [
      "\n",
      "Lorem Ipsum is simply dummy text of \u001b[43m\u001b[1mthe\u001b[0m printing \u001b[43m\u001b[1mand\u001b[0m typesetting industry. \n",
      "Lorem Ipsum has been \u001b[43m\u001b[1mthe\u001b[0m industry's standard dummy text ever since \u001b[43m\u001b[1mthe\u001b[0m 1500s, \n",
      "when an unknown printer took a galley of type \u001b[43m\u001b[1mand\u001b[0m scrambled it to make a type specimen book. \n",
      "It has survived not only five centuries, but also \u001b[43m\u001b[1mthe\u001b[0m leap into electronic typesetting, \n",
      "remaining essentially unchanged. \n",
      "It was popularised in \u001b[43m\u001b[1mthe\u001b[0m 1960s with \u001b[43m\u001b[1mthe\u001b[0m release of Letraset sheets containing Lorem Ipsum passages, \n",
      "\u001b[43m\u001b[1mand\u001b[0m more recently with desktop publishing software like Aldus PageMaker including versions of Lorem Ipsum.\n",
      "\n"
     ]
    }
   ],
   "source": [
    "highlight_regex_matches(pattern, txt)"
   ]
  },
  {
   "cell_type": "markdown",
   "id": "f26d17cb",
   "metadata": {},
   "source": [
    "Here is a table which shows the list of all boundary matchers available in Python:\n",
    "\n",
    "<table style=\"border: 1px solid black; font-size:15px;\">\n",
    "<thead>\n",
    "    <th>Matcher</th>\n",
    "    <th>Description</th>\n",
    "</thead>\n",
    "    \n",
    "<tbody>\n",
    "<tr>\n",
    "    <td>^</td>\n",
    "    <td>Matches at the beginning of a line</td>\n",
    "</tr>\n",
    "    \n",
    "<tr>\n",
    "    <td>$</td>\n",
    "    <td>Matches at the end of a line</td>\n",
    "</tr>\n",
    "\n",
    "<tr>\n",
    "    <td>\\b</td>\n",
    "    <td>Matches a word boundary</td>\n",
    "</tr>\n",
    "\n",
    "<tr>\n",
    "    <td>\\B</td>\n",
    "    <td>Matches the opposite of \\b. Anything that is not a word boundary</td>\n",
    "</tr>\n",
    "\n",
    "<tr>\n",
    "    <td>\\A</td>\n",
    "    <td>Matches the beginning of the input</td>\n",
    "</tr>\n",
    "\n",
    "<tr>\n",
    "    <td>\\Z</td>\n",
    "    <td>Matches the end of the input</td>\n",
    "</tr>\n",
    "</tbody>\n",
    "</table>\n",
    "\n",
    "### Example 1\n",
    "\n",
    "Consider a scenario where we want to find all the lines in the given text which **start** with the pattern `Name:`."
   ]
  },
  {
   "cell_type": "code",
   "execution_count": 94,
   "id": "98188fab",
   "metadata": {},
   "outputs": [],
   "source": [
    "txt = \"\"\"\n",
    "Name:\n",
    "Age: 0\n",
    "Roll No.: 15\n",
    "Grade: S\n",
    "\n",
    "Name: Ravi\n",
    "Age: -1\n",
    "Roll No.: 123 Name: ABC\n",
    "Grade: K\n",
    "\n",
    "Name: Ram\n",
    "Age: N/A\n",
    "Roll No.: 1\n",
    "Grade: G\n",
    "\"\"\""
   ]
  },
  {
   "cell_type": "code",
   "execution_count": 95,
   "id": "91eaa115",
   "metadata": {},
   "outputs": [],
   "source": [
    "pattern = re.compile(\"^Name: \\w+\", flags=re.M)"
   ]
  },
  {
   "cell_type": "code",
   "execution_count": 96,
   "id": "85585483",
   "metadata": {},
   "outputs": [
    {
     "data": {
      "text/plain": [
       "['Name: Ravi', 'Name: Ram']"
      ]
     },
     "execution_count": 96,
     "metadata": {},
     "output_type": "execute_result"
    }
   ],
   "source": [
    "pattern.findall(txt)"
   ]
  },
  {
   "cell_type": "markdown",
   "id": "80ba9b29",
   "metadata": {},
   "source": [
    "> `re.M` (short for `re.MULTILINE`) is a flag which is used to make begin/end `(^, $)` consider each line.\n",
    "\n",
    "### Example 2\n",
    "\n",
    "Find all the sentences which do not end with a full stop (`.`) in the given text."
   ]
  },
  {
   "cell_type": "code",
   "execution_count": 97,
   "id": "56fe2ac6",
   "metadata": {},
   "outputs": [],
   "source": [
    "txt = \"\"\"\n",
    "Lorem Ipsum is simply dummy text of the printing and typesetting industry.\n",
    "Lorem Ipsum has been the industry's standard dummy text ever since the 1500s!\n",
    "It has survived not only five centuries, but also the leap into electronic typesetting, remaining essentially unchanged.\n",
    "It was popularised in the 1960s with the release of Letraset sheets containing Lorem Ipsum passages\n",
    "More recently with desktop publishing software like Aldus PageMaker including versions of Lorem Ipsum.\"\"\""
   ]
  },
  {
   "cell_type": "code",
   "execution_count": 98,
   "id": "1d8c5fca",
   "metadata": {},
   "outputs": [],
   "source": [
    "pattern = re.compile(\"^.+[^\\.]$\", flags=re.M)"
   ]
  },
  {
   "cell_type": "code",
   "execution_count": 99,
   "id": "f23b0405",
   "metadata": {},
   "outputs": [
    {
     "data": {
      "text/plain": [
       "[\"Lorem Ipsum has been the industry's standard dummy text ever since the 1500s!\",\n",
       " 'It was popularised in the 1960s with the release of Letraset sheets containing Lorem Ipsum passages']"
      ]
     },
     "execution_count": 99,
     "metadata": {},
     "output_type": "execute_result"
    }
   ],
   "source": [
    "pattern.findall(txt)"
   ]
  },
  {
   "cell_type": "code",
   "execution_count": 100,
   "id": "25375641",
   "metadata": {},
   "outputs": [
    {
     "name": "stdout",
     "output_type": "stream",
     "text": [
      "\n",
      "Lorem Ipsum is simply dummy text of the printing and typesetting industry.\n",
      "\u001b[43m\u001b[1mLorem Ipsum has been the industry's standard dummy text ever since the 1500s!\u001b[0m\n",
      "It has survived not only five centuries, but also the leap into electronic typesetting, remaining essentially unchanged.\n",
      "\u001b[43m\u001b[1mIt was popularised in the 1960s with the release of Letraset sheets containing Lorem Ipsum passages\u001b[0m\n",
      "More recently with desktop publishing software like Aldus PageMaker including versions of Lorem Ipsum.\n"
     ]
    }
   ],
   "source": [
    "highlight_regex_matches(pattern, txt)"
   ]
  },
  {
   "cell_type": "markdown",
   "id": "ba40ef03",
   "metadata": {},
   "source": [
    "# Split using RegEx\n",
    "\n",
    "> In almost every language, you can find the split operation in strings. The big difference is that the split in the `re` module is more powerful due to which you can use a regex. So, in this case, the string is split based on the matches of the pattern.\n",
    "\n",
    "### `split(string[, maxsplit])`\n",
    "\n",
    "- Every pattern object has a `split()` method which splits the input string at all positions where a match is found.\n",
    "\n",
    "- `maxsplit` is an optional argument (default value 0) which specifies the max no. of splits that can take place. `0` value means there is no limit on the no. of splits.\n",
    "\n",
    "- Pattern match is not included in any of the substrings obtained after splitting.\n",
    "\n",
    "#### Example 1\n",
    "\n",
    "Let us try to split a string to get individual lines in it."
   ]
  },
  {
   "cell_type": "code",
   "execution_count": 101,
   "id": "ea79de60",
   "metadata": {},
   "outputs": [],
   "source": [
    "txt = \"\"\"Beautiful is better than ugly.\n",
    "Explicit is better than implicit.\n",
    "Simple is better than complex.\n",
    "Complex is better than complicated.\"\"\""
   ]
  },
  {
   "cell_type": "code",
   "execution_count": 102,
   "id": "78eea8ff",
   "metadata": {},
   "outputs": [],
   "source": [
    "pattern = re.compile(\"\\n\")"
   ]
  },
  {
   "cell_type": "code",
   "execution_count": 103,
   "id": "477ae458",
   "metadata": {},
   "outputs": [
    {
     "data": {
      "text/plain": [
       "['Beautiful is better than ugly.',\n",
       " 'Explicit is better than implicit.',\n",
       " 'Simple is better than complex.',\n",
       " 'Complex is better than complicated.']"
      ]
     },
     "execution_count": 103,
     "metadata": {},
     "output_type": "execute_result"
    }
   ],
   "source": [
    "pattern.split(txt)"
   ]
  },
  {
   "cell_type": "markdown",
   "id": "3f128988",
   "metadata": {},
   "source": [
    "#### Example 2\n",
    "\n",
    "Let us try one more example in which we want to get all the words in the given text."
   ]
  },
  {
   "cell_type": "code",
   "execution_count": 104,
   "id": "24f5fa0f",
   "metadata": {},
   "outputs": [],
   "source": [
    "pattern = re.compile(\"\\W\")"
   ]
  },
  {
   "cell_type": "code",
   "execution_count": 105,
   "id": "c9ec06b1",
   "metadata": {},
   "outputs": [
    {
     "data": {
      "text/plain": [
       "['Beautiful',\n",
       " 'is',\n",
       " 'better',\n",
       " 'than',\n",
       " 'ugly',\n",
       " '',\n",
       " 'Explicit',\n",
       " 'is',\n",
       " 'better',\n",
       " 'than',\n",
       " 'implicit',\n",
       " '',\n",
       " 'Simple',\n",
       " 'is',\n",
       " 'better',\n",
       " 'than',\n",
       " 'complex',\n",
       " '',\n",
       " 'Complex',\n",
       " 'is',\n",
       " 'better',\n",
       " 'than',\n",
       " 'complicated',\n",
       " '']"
      ]
     },
     "execution_count": 105,
     "metadata": {},
     "output_type": "execute_result"
    }
   ],
   "source": [
    "pattern.split(txt)"
   ]
  },
  {
   "cell_type": "markdown",
   "id": "2a12ef50",
   "metadata": {},
   "source": [
    "#### Example 3\n",
    "\n",
    "What is we want only first 3 words? We need to split only 3 times in this case, which can be done by setting the value of `maxsplit` as 3."
   ]
  },
  {
   "cell_type": "code",
   "execution_count": 106,
   "id": "665b4e40",
   "metadata": {},
   "outputs": [
    {
     "data": {
      "text/plain": [
       "['Beautiful',\n",
       " 'is',\n",
       " 'better',\n",
       " 'than ugly.\\nExplicit is better than implicit.\\nSimple is better than complex.\\nComplex is better than complicated.']"
      ]
     },
     "execution_count": 106,
     "metadata": {},
     "output_type": "execute_result"
    }
   ],
   "source": [
    "pattern.split(txt, maxsplit=3)"
   ]
  },
  {
   "cell_type": "markdown",
   "id": "2e8990fd",
   "metadata": {},
   "source": [
    "# Substitution\n",
    "\n",
    "Now, we are going to look at a method which will replace all the **leftmost non-overlapping occurrences** of a pattern in a given string and return the new string as result.\n",
    "\n",
    "### `sub(repl, string[, count=0])`\n",
    "\n",
    "- `repl` is the replacement string which gets substituted in the place of match\n",
    "\n",
    "- `string` is the input text on which substitution takes place.\n",
    "\n",
    "- `count` is an optional argument (default is 0) which specifies the max no. of substitutions that can take place.  0 means there is no limit on substitution count.\n",
    "\n",
    "\n",
    "Let us consider a case where we want to replace all occurances of numbers with a `-` in the given text."
   ]
  },
  {
   "cell_type": "code",
   "execution_count": 107,
   "id": "9c1fb45c",
   "metadata": {},
   "outputs": [],
   "source": [
    "txt = \"100 cats, 23 dogs, 3 rabbits\""
   ]
  },
  {
   "cell_type": "code",
   "execution_count": 108,
   "id": "11b22820",
   "metadata": {},
   "outputs": [],
   "source": [
    "pattern = re.compile(\"\\d+\")"
   ]
  },
  {
   "cell_type": "code",
   "execution_count": 109,
   "id": "538e4d76",
   "metadata": {},
   "outputs": [
    {
     "data": {
      "text/plain": [
       "'- cats, - dogs, - rabbits'"
      ]
     },
     "execution_count": 109,
     "metadata": {},
     "output_type": "execute_result"
    }
   ],
   "source": [
    "pattern.sub(\"-\", txt)"
   ]
  },
  {
   "cell_type": "markdown",
   "id": "c2548cb5",
   "metadata": {},
   "source": [
    "### `subn(repl, string[, count=0])`\n",
    "\n",
    "- Returns the substituted string as well as the no. of substitutions.\n",
    "\n",
    "- Can be thought of as a utility function over `sub()`."
   ]
  },
  {
   "cell_type": "code",
   "execution_count": 110,
   "id": "9eea01dc",
   "metadata": {},
   "outputs": [
    {
     "data": {
      "text/plain": [
       "('- cats, - dogs, - rabbits', 3)"
      ]
     },
     "execution_count": 110,
     "metadata": {},
     "output_type": "execute_result"
    }
   ],
   "source": [
    "pattern.subn(\"-\", txt)"
   ]
  },
  {
   "cell_type": "markdown",
   "id": "eb431a62",
   "metadata": {},
   "source": [
    "# Compilation Flags\n",
    "\n",
    "- When compiling a pattern string into a pattern object, it's possible to **modify the standard behavior of the patterns** using **Compilation Flags**.\n",
    "\n",
    "- Multiple compilation flags can be combined using the bitwise OR \"|\".\n",
    "\n",
    "Here is a list of all the complation flags:\n",
    "\n",
    "<table style=\"border: 1px solid black; font-size:15px;\">\n",
    "<thead>\n",
    "    <th>Syntax</th>\n",
    "    <th>Meaning</th>\n",
    "</thead>\n",
    "    \n",
    "<tbody>\n",
    "<tr>\n",
    "    <td>re.IGNORECASE or re.I</td>\n",
    "    <td>ignore case.</td>\n",
    "</tr>\n",
    "\n",
    "<tr>\n",
    "    <td>re.MULTILINE or re.M</td>\n",
    "    <td>make begin/end boundary matchers (^, $) consider each line.</td>\n",
    "</tr>\n",
    "\n",
    "<tr>\n",
    "    <td>re.DOTALL or re.S</td>\n",
    "    <td>make . match newline too.</td>\n",
    "</tr>\n",
    "\n",
    "<tr>\n",
    "    <td>re.UNICODE or re.U</td>\n",
    "    <td>make {\\w, \\W, \\b, \\B} follow Unicode rules.</td>\n",
    "</tr>\n",
    "\n",
    "<tr>\n",
    "    <td>re.LOCALE or re.L</td>\n",
    "    <td>make {\\w, \\W, \\b, \\B} follow locale.</td>\n",
    "</tr>\n",
    "\n",
    "<tr>\n",
    "    <td>re.ASCII or re.A</td>\n",
    "    <td>make {\\w, \\W, \\b, \\B} perform ASCII-only matching.</td>\n",
    "</tr>\n",
    "\n",
    "<tr>\n",
    "    <td>re.VERBOSE or re.X</td>\n",
    "    <td>allow comment in regex.</td>\n",
    "</tr>\n",
    "\n",
    "<tr>\n",
    "    <td>re.DEBUG</td>\n",
    "    <td>get information about the compilation pattern.</td>\n",
    "</tr>\n",
    "</tbody>\n",
    "</table>\n",
    "\n",
    "Let's go through each one of them one by one.\n",
    "\n",
    "## 1. re.IGNORECASE or re.I\n",
    "\n",
    "This flag makes a regex pattern case-insensitive.\n",
    "\n",
    "\n",
    "Let's check out an example to find all occurances of `the` and `The` in the given text."
   ]
  },
  {
   "cell_type": "code",
   "execution_count": 111,
   "id": "bf3b205f",
   "metadata": {},
   "outputs": [],
   "source": [
    "txt = \"\"\"\n",
    "The best thing about regex is that it makes the task of string manipulation so easy.\n",
    "\"\"\""
   ]
  },
  {
   "cell_type": "code",
   "execution_count": 112,
   "id": "66d0dcc1",
   "metadata": {},
   "outputs": [],
   "source": [
    "pattern = re.compile(\"the\", flags=re.I)"
   ]
  },
  {
   "cell_type": "code",
   "execution_count": 113,
   "id": "b0706b04",
   "metadata": {},
   "outputs": [
    {
     "data": {
      "text/plain": [
       "re.compile(r'the', re.IGNORECASE|re.UNICODE)"
      ]
     },
     "execution_count": 113,
     "metadata": {},
     "output_type": "execute_result"
    }
   ],
   "source": [
    "pattern"
   ]
  },
  {
   "cell_type": "code",
   "execution_count": 114,
   "id": "09620315",
   "metadata": {},
   "outputs": [
    {
     "name": "stdout",
     "output_type": "stream",
     "text": [
      "\n",
      "\u001b[43m\u001b[1mThe\u001b[0m best thing about regex is that it makes \u001b[43m\u001b[1mthe\u001b[0m task of string manipulation so easy.\n",
      "\n"
     ]
    }
   ],
   "source": [
    "highlight_regex_matches(pattern, txt)"
   ]
  },
  {
   "cell_type": "markdown",
   "id": "0f6f775c",
   "metadata": {},
   "source": [
    "## 2. re.MULTILINE or re.M\n",
    "\n",
    "This flag is used to make begin/end boundary matchers (`^`, `$`) consider each line of the given text.\n",
    "\n",
    "\n",
    "Let's check out an example to find all lines starting with `A`.  "
   ]
  },
  {
   "cell_type": "code",
   "execution_count": 115,
   "id": "96c30c38",
   "metadata": {},
   "outputs": [],
   "source": [
    "txt = \"\"\"\n",
    "A man was crossing the road.\n",
    "Suddenly, a car passed before him in a very high speed.\n",
    "He was terrified\n",
    "And shocked.\n",
    "\"\"\""
   ]
  },
  {
   "cell_type": "code",
   "execution_count": 116,
   "id": "1cdda148",
   "metadata": {},
   "outputs": [],
   "source": [
    "pattern = re.compile(\"^A.+\", flags=re.M)"
   ]
  },
  {
   "cell_type": "code",
   "execution_count": 117,
   "id": "97ccdb07",
   "metadata": {},
   "outputs": [
    {
     "name": "stdout",
     "output_type": "stream",
     "text": [
      "\n",
      "\u001b[43m\u001b[1mA man was crossing the road.\u001b[0m\n",
      "Suddenly, a car passed before him in a very high speed.\n",
      "He was terrified\n",
      "\u001b[43m\u001b[1mAnd shocked.\u001b[0m\n",
      "\n"
     ]
    }
   ],
   "source": [
    "highlight_regex_matches(pattern, txt)"
   ]
  },
  {
   "cell_type": "markdown",
   "id": "6bf7d8f0",
   "metadata": {},
   "source": [
    "## 3. re.DOTALL or re.S\n",
    "\n",
    "The `.` metacharacter matches everything except newline character. If we want to make `.` match newline too, we have to set this flag.\n",
    "\n",
    "Let's consider an examle to match all the text after (and including) `car`."
   ]
  },
  {
   "cell_type": "code",
   "execution_count": 118,
   "id": "794dcca9",
   "metadata": {},
   "outputs": [],
   "source": [
    "pattern = re.compile(\"car.+\", flags=re.S)"
   ]
  },
  {
   "cell_type": "code",
   "execution_count": 119,
   "id": "b2d73357",
   "metadata": {},
   "outputs": [
    {
     "name": "stdout",
     "output_type": "stream",
     "text": [
      "\n",
      "A man was crossing the road.\n",
      "Suddenly, a \u001b[43m\u001b[1mcar passed before him in a very high speed.\n",
      "He was terrified\n",
      "And shocked.\n",
      "\u001b[0m\n"
     ]
    }
   ],
   "source": [
    "highlight_regex_matches(pattern, txt)"
   ]
  },
  {
   "cell_type": "markdown",
   "id": "30268a50",
   "metadata": {},
   "source": [
    "## 4. re.UNICODE or re.U\n",
    "\n",
    "Using this flag, we can make the pattern characters `{\\w, \\W, \\b, \\B}` dependent on the Unicode character properties database.\n",
    "\n",
    "> re.UNICODE is the default flag in Python 3 regex patterns.\n",
    "\n",
    "Let's consider an example where we try to work on hindi language."
   ]
  },
  {
   "cell_type": "code",
   "execution_count": 120,
   "id": "428b46c5",
   "metadata": {},
   "outputs": [],
   "source": [
    "txt = \"मुझे किताबें पढ़ना बहुत पसंद है।\""
   ]
  },
  {
   "cell_type": "code",
   "execution_count": 121,
   "id": "a8a8ade5",
   "metadata": {},
   "outputs": [],
   "source": [
    "pattern = re.compile(\"\\w+\")"
   ]
  },
  {
   "cell_type": "code",
   "execution_count": 122,
   "id": "6243e585",
   "metadata": {},
   "outputs": [
    {
     "data": {
      "text/plain": [
       "['म', 'झ', 'क', 'त', 'ब', 'पढ', 'न', 'बह', 'त', 'पस', 'द', 'ह']"
      ]
     },
     "execution_count": 122,
     "metadata": {},
     "output_type": "execute_result"
    }
   ],
   "source": [
    "pattern.findall(txt)"
   ]
  },
  {
   "cell_type": "markdown",
   "id": "3703ccf5",
   "metadata": {},
   "source": [
    "[Solution](https://stackoverflow.com/questions/12746458/python-unicode-regular-expression-matching-failing-with-some-unicode-characters/12747529#12747529)"
   ]
  },
  {
   "cell_type": "code",
   "execution_count": 123,
   "id": "2eea5b2f",
   "metadata": {},
   "outputs": [
    {
     "ename": "ModuleNotFoundError",
     "evalue": "No module named 'regex'",
     "output_type": "error",
     "traceback": [
      "\u001b[1;31m---------------------------------------------------------------------------\u001b[0m",
      "\u001b[1;31mModuleNotFoundError\u001b[0m                       Traceback (most recent call last)",
      "Cell \u001b[1;32mIn[123], line 1\u001b[0m\n\u001b[1;32m----> 1\u001b[0m \u001b[38;5;28;01mimport\u001b[39;00m \u001b[38;5;21;01mregex\u001b[39;00m\n",
      "\u001b[1;31mModuleNotFoundError\u001b[0m: No module named 'regex'"
     ]
    }
   ],
   "source": [
    "import regex"
   ]
  },
  {
   "cell_type": "code",
   "execution_count": null,
   "id": "b19b2650",
   "metadata": {},
   "outputs": [],
   "source": [
    "pattern = regex.compile(\"\\w+\")"
   ]
  },
  {
   "cell_type": "code",
   "execution_count": 124,
   "id": "7e39dabc",
   "metadata": {},
   "outputs": [
    {
     "data": {
      "text/plain": [
       "['म', 'झ', 'क', 'त', 'ब', 'पढ', 'न', 'बह', 'त', 'पस', 'द', 'ह']"
      ]
     },
     "execution_count": 124,
     "metadata": {},
     "output_type": "execute_result"
    }
   ],
   "source": [
    "pattern.findall(txt)"
   ]
  },
  {
   "cell_type": "markdown",
   "id": "c679015b",
   "metadata": {},
   "source": [
    "## 5. re.LOCALE or re.L\n",
    "\n",
    "> A locale is a set of environmental variables that defines the language, country, and character encoding settings (or any other special variant preferences) for your applications.\n",
    "\n",
    "This flag will make the word pattern `{\\w, \\W}` and boundary pattern `{\\b, \\B}`, dependent on the current locale. \n",
    "\n",
    "<span style=\"color:red;\">**The use of this flag is discouraged in Python 3 as the locale mechanism is very unreliable, it only handles one “culture” at a time, and it only works with 8-bit locales. Unicode matching is already enabled by default in Python 3 for Unicode (str) patterns, and it is able to handle different locales/languages.**</span>\n",
    "\n",
    "\n",
    "## 6. re.ASCII or re.A\n",
    "\n",
    "This flag will make the word pattern `{\\w, \\W}` and boundary pattern `{\\b, \\B}` perform ASCII-only matching, i.e. only A-Z, a-z, 0-9 will be considered alphanumeric characters. \n",
    "\n",
    "Let us see an example below:"
   ]
  },
  {
   "cell_type": "code",
   "execution_count": 125,
   "id": "761033fc",
   "metadata": {},
   "outputs": [],
   "source": [
    "chars =  ''.join(chr(i) for i in range(256))"
   ]
  },
  {
   "cell_type": "code",
   "execution_count": 126,
   "id": "5b5df0f7",
   "metadata": {},
   "outputs": [
    {
     "name": "stdout",
     "output_type": "stream",
     "text": [
      "\u0000\u0001\u0002\u0003\u0004\u0005\u0006\t\n",
      "\u000e\u000f\u0010\u0011\u0012\u0013\u0014\u0015\u0016\u0017\u0018\u0019\u001a\u001b\u001c",
      "\u001d",
      "\u001e",
      "\u001f !\"#$%&'()*+,-./0123456789:;<=>?@ABCDEFGHIJKLMNOPQRSTUVWXYZ[\\]^_`abcdefghijklmnopqrstuvwxyz{|}~",
      " ¡¢£¤¥¦§¨©ª«¬­®¯°±²³´µ¶·¸¹º»¼½¾¿ÀÁÂÃÄÅÆÇÈÉÊËÌÍÎÏÐÑÒÓÔÕÖ×ØÙÚÛÜÝÞßàáâãäåæçèéêëìíîïðñòóôõö÷øùúûüýþÿ\n"
     ]
    }
   ],
   "source": [
    "print(chars)"
   ]
  },
  {
   "cell_type": "code",
   "execution_count": 127,
   "id": "1f326c7f",
   "metadata": {},
   "outputs": [],
   "source": [
    "pattern = re.compile(\"\\w\")"
   ]
  },
  {
   "cell_type": "code",
   "execution_count": 128,
   "id": "c6e52583",
   "metadata": {},
   "outputs": [
    {
     "name": "stdout",
     "output_type": "stream",
     "text": [
      "\u0000\u0001\u0002\u0003\u0004\u0005\u0006\t\n",
      "\u000e\u000f\u0010\u0011\u0012\u0013\u0014\u0015\u0016\u0017\u0018\u0019\u001a\u001b\u001c",
      "\u001d",
      "\u001e",
      "\u001f !\"#$%&'()*+,-./\u001b[43m\u001b[1m0\u001b[0m\u001b[43m\u001b[1m1\u001b[0m\u001b[43m\u001b[1m2\u001b[0m\u001b[43m\u001b[1m3\u001b[0m\u001b[43m\u001b[1m4\u001b[0m\u001b[43m\u001b[1m5\u001b[0m\u001b[43m\u001b[1m6\u001b[0m\u001b[43m\u001b[1m7\u001b[0m\u001b[43m\u001b[1m8\u001b[0m\u001b[43m\u001b[1m9\u001b[0m:;<=>?@\u001b[43m\u001b[1mA\u001b[0m\u001b[43m\u001b[1mB\u001b[0m\u001b[43m\u001b[1mC\u001b[0m\u001b[43m\u001b[1mD\u001b[0m\u001b[43m\u001b[1mE\u001b[0m\u001b[43m\u001b[1mF\u001b[0m\u001b[43m\u001b[1mG\u001b[0m\u001b[43m\u001b[1mH\u001b[0m\u001b[43m\u001b[1mI\u001b[0m\u001b[43m\u001b[1mJ\u001b[0m\u001b[43m\u001b[1mK\u001b[0m\u001b[43m\u001b[1mL\u001b[0m\u001b[43m\u001b[1mM\u001b[0m\u001b[43m\u001b[1mN\u001b[0m\u001b[43m\u001b[1mO\u001b[0m\u001b[43m\u001b[1mP\u001b[0m\u001b[43m\u001b[1mQ\u001b[0m\u001b[43m\u001b[1mR\u001b[0m\u001b[43m\u001b[1mS\u001b[0m\u001b[43m\u001b[1mT\u001b[0m\u001b[43m\u001b[1mU\u001b[0m\u001b[43m\u001b[1mV\u001b[0m\u001b[43m\u001b[1mW\u001b[0m\u001b[43m\u001b[1mX\u001b[0m\u001b[43m\u001b[1mY\u001b[0m\u001b[43m\u001b[1mZ\u001b[0m[\\]^\u001b[43m\u001b[1m_\u001b[0m`\u001b[43m\u001b[1ma\u001b[0m\u001b[43m\u001b[1mb\u001b[0m\u001b[43m\u001b[1mc\u001b[0m\u001b[43m\u001b[1md\u001b[0m\u001b[43m\u001b[1me\u001b[0m\u001b[43m\u001b[1mf\u001b[0m\u001b[43m\u001b[1mg\u001b[0m\u001b[43m\u001b[1mh\u001b[0m\u001b[43m\u001b[1mi\u001b[0m\u001b[43m\u001b[1mj\u001b[0m\u001b[43m\u001b[1mk\u001b[0m\u001b[43m\u001b[1ml\u001b[0m\u001b[43m\u001b[1mm\u001b[0m\u001b[43m\u001b[1mn\u001b[0m\u001b[43m\u001b[1mo\u001b[0m\u001b[43m\u001b[1mp\u001b[0m\u001b[43m\u001b[1mq\u001b[0m\u001b[43m\u001b[1mr\u001b[0m\u001b[43m\u001b[1ms\u001b[0m\u001b[43m\u001b[1mt\u001b[0m\u001b[43m\u001b[1mu\u001b[0m\u001b[43m\u001b[1mv\u001b[0m\u001b[43m\u001b[1mw\u001b[0m\u001b[43m\u001b[1mx\u001b[0m\u001b[43m\u001b[1my\u001b[0m\u001b[43m\u001b[1mz\u001b[0m{|}~",
      " ¡¢£¤¥¦§¨©\u001b[43m\u001b[1mª\u001b[0m«¬­®¯°±\u001b[43m\u001b[1m²\u001b[0m\u001b[43m\u001b[1m³\u001b[0m´\u001b[43m\u001b[1mµ\u001b[0m¶·¸\u001b[43m\u001b[1m¹\u001b[0m\u001b[43m\u001b[1mº\u001b[0m»\u001b[43m\u001b[1m¼\u001b[0m\u001b[43m\u001b[1m½\u001b[0m\u001b[43m\u001b[1m¾\u001b[0m¿\u001b[43m\u001b[1mÀ\u001b[0m\u001b[43m\u001b[1mÁ\u001b[0m\u001b[43m\u001b[1mÂ\u001b[0m\u001b[43m\u001b[1mÃ\u001b[0m\u001b[43m\u001b[1mÄ\u001b[0m\u001b[43m\u001b[1mÅ\u001b[0m\u001b[43m\u001b[1mÆ\u001b[0m\u001b[43m\u001b[1mÇ\u001b[0m\u001b[43m\u001b[1mÈ\u001b[0m\u001b[43m\u001b[1mÉ\u001b[0m\u001b[43m\u001b[1mÊ\u001b[0m\u001b[43m\u001b[1mË\u001b[0m\u001b[43m\u001b[1mÌ\u001b[0m\u001b[43m\u001b[1mÍ\u001b[0m\u001b[43m\u001b[1mÎ\u001b[0m\u001b[43m\u001b[1mÏ\u001b[0m\u001b[43m\u001b[1mÐ\u001b[0m\u001b[43m\u001b[1mÑ\u001b[0m\u001b[43m\u001b[1mÒ\u001b[0m\u001b[43m\u001b[1mÓ\u001b[0m\u001b[43m\u001b[1mÔ\u001b[0m\u001b[43m\u001b[1mÕ\u001b[0m\u001b[43m\u001b[1mÖ\u001b[0m×\u001b[43m\u001b[1mØ\u001b[0m\u001b[43m\u001b[1mÙ\u001b[0m\u001b[43m\u001b[1mÚ\u001b[0m\u001b[43m\u001b[1mÛ\u001b[0m\u001b[43m\u001b[1mÜ\u001b[0m\u001b[43m\u001b[1mÝ\u001b[0m\u001b[43m\u001b[1mÞ\u001b[0m\u001b[43m\u001b[1mß\u001b[0m\u001b[43m\u001b[1mà\u001b[0m\u001b[43m\u001b[1má\u001b[0m\u001b[43m\u001b[1mâ\u001b[0m\u001b[43m\u001b[1mã\u001b[0m\u001b[43m\u001b[1mä\u001b[0m\u001b[43m\u001b[1må\u001b[0m\u001b[43m\u001b[1mæ\u001b[0m\u001b[43m\u001b[1mç\u001b[0m\u001b[43m\u001b[1mè\u001b[0m\u001b[43m\u001b[1mé\u001b[0m\u001b[43m\u001b[1mê\u001b[0m\u001b[43m\u001b[1më\u001b[0m\u001b[43m\u001b[1mì\u001b[0m\u001b[43m\u001b[1mí\u001b[0m\u001b[43m\u001b[1mî\u001b[0m\u001b[43m\u001b[1mï\u001b[0m\u001b[43m\u001b[1mð\u001b[0m\u001b[43m\u001b[1mñ\u001b[0m\u001b[43m\u001b[1mò\u001b[0m\u001b[43m\u001b[1mó\u001b[0m\u001b[43m\u001b[1mô\u001b[0m\u001b[43m\u001b[1mõ\u001b[0m\u001b[43m\u001b[1mö\u001b[0m÷\u001b[43m\u001b[1mø\u001b[0m\u001b[43m\u001b[1mù\u001b[0m\u001b[43m\u001b[1mú\u001b[0m\u001b[43m\u001b[1mû\u001b[0m\u001b[43m\u001b[1mü\u001b[0m\u001b[43m\u001b[1mý\u001b[0m\u001b[43m\u001b[1mþ\u001b[0m\u001b[43m\u001b[1mÿ\u001b[0m\n"
     ]
    }
   ],
   "source": [
    "highlight_regex_matches(pattern, chars)"
   ]
  },
  {
   "cell_type": "code",
   "execution_count": 129,
   "id": "573d4c36",
   "metadata": {},
   "outputs": [],
   "source": [
    "pattern = re.compile(\"\\w\", flags=re.A)"
   ]
  },
  {
   "cell_type": "code",
   "execution_count": 130,
   "id": "ba26a7ec",
   "metadata": {},
   "outputs": [
    {
     "name": "stdout",
     "output_type": "stream",
     "text": [
      "\u0000\u0001\u0002\u0003\u0004\u0005\u0006\t\n",
      "\u000e\u000f\u0010\u0011\u0012\u0013\u0014\u0015\u0016\u0017\u0018\u0019\u001a\u001b\u001c",
      "\u001d",
      "\u001e",
      "\u001f !\"#$%&'()*+,-./\u001b[43m\u001b[1m0\u001b[0m\u001b[43m\u001b[1m1\u001b[0m\u001b[43m\u001b[1m2\u001b[0m\u001b[43m\u001b[1m3\u001b[0m\u001b[43m\u001b[1m4\u001b[0m\u001b[43m\u001b[1m5\u001b[0m\u001b[43m\u001b[1m6\u001b[0m\u001b[43m\u001b[1m7\u001b[0m\u001b[43m\u001b[1m8\u001b[0m\u001b[43m\u001b[1m9\u001b[0m:;<=>?@\u001b[43m\u001b[1mA\u001b[0m\u001b[43m\u001b[1mB\u001b[0m\u001b[43m\u001b[1mC\u001b[0m\u001b[43m\u001b[1mD\u001b[0m\u001b[43m\u001b[1mE\u001b[0m\u001b[43m\u001b[1mF\u001b[0m\u001b[43m\u001b[1mG\u001b[0m\u001b[43m\u001b[1mH\u001b[0m\u001b[43m\u001b[1mI\u001b[0m\u001b[43m\u001b[1mJ\u001b[0m\u001b[43m\u001b[1mK\u001b[0m\u001b[43m\u001b[1mL\u001b[0m\u001b[43m\u001b[1mM\u001b[0m\u001b[43m\u001b[1mN\u001b[0m\u001b[43m\u001b[1mO\u001b[0m\u001b[43m\u001b[1mP\u001b[0m\u001b[43m\u001b[1mQ\u001b[0m\u001b[43m\u001b[1mR\u001b[0m\u001b[43m\u001b[1mS\u001b[0m\u001b[43m\u001b[1mT\u001b[0m\u001b[43m\u001b[1mU\u001b[0m\u001b[43m\u001b[1mV\u001b[0m\u001b[43m\u001b[1mW\u001b[0m\u001b[43m\u001b[1mX\u001b[0m\u001b[43m\u001b[1mY\u001b[0m\u001b[43m\u001b[1mZ\u001b[0m[\\]^\u001b[43m\u001b[1m_\u001b[0m`\u001b[43m\u001b[1ma\u001b[0m\u001b[43m\u001b[1mb\u001b[0m\u001b[43m\u001b[1mc\u001b[0m\u001b[43m\u001b[1md\u001b[0m\u001b[43m\u001b[1me\u001b[0m\u001b[43m\u001b[1mf\u001b[0m\u001b[43m\u001b[1mg\u001b[0m\u001b[43m\u001b[1mh\u001b[0m\u001b[43m\u001b[1mi\u001b[0m\u001b[43m\u001b[1mj\u001b[0m\u001b[43m\u001b[1mk\u001b[0m\u001b[43m\u001b[1ml\u001b[0m\u001b[43m\u001b[1mm\u001b[0m\u001b[43m\u001b[1mn\u001b[0m\u001b[43m\u001b[1mo\u001b[0m\u001b[43m\u001b[1mp\u001b[0m\u001b[43m\u001b[1mq\u001b[0m\u001b[43m\u001b[1mr\u001b[0m\u001b[43m\u001b[1ms\u001b[0m\u001b[43m\u001b[1mt\u001b[0m\u001b[43m\u001b[1mu\u001b[0m\u001b[43m\u001b[1mv\u001b[0m\u001b[43m\u001b[1mw\u001b[0m\u001b[43m\u001b[1mx\u001b[0m\u001b[43m\u001b[1my\u001b[0m\u001b[43m\u001b[1mz\u001b[0m{|}~",
      " ¡¢£¤¥¦§¨©ª«¬­®¯°±²³´µ¶·¸¹º»¼½¾¿ÀÁÂÃÄÅÆÇÈÉÊËÌÍÎÏÐÑÒÓÔÕÖ×ØÙÚÛÜÝÞßàáâãäåæçèéêëìíîïðñòóôõö÷øùúûüýþÿ\n"
     ]
    }
   ],
   "source": [
    "highlight_regex_matches(pattern, chars)"
   ]
  },
  {
   "cell_type": "markdown",
   "id": "4f568542",
   "metadata": {},
   "source": [
    "## 7. re.VERBOSE or re.X\n",
    "\n",
    "This flag changes the regex syntax, to allow you to add annotations in regex. \n",
    "\n",
    "- Whitespace within the pattern is ignored, except when in a character class or preceded by an unescaped backslash.\n",
    "\n",
    "- When a line contains a # neither in a character class or preceded by an unescaped backslash, all characters from the leftmost such # through the end of the line are ignored."
   ]
  },
  {
   "cell_type": "code",
   "execution_count": 131,
   "id": "80f7cdef",
   "metadata": {},
   "outputs": [],
   "source": [
    "txt = \"\"\"\n",
    "This is a sample text123\n",
    "\"\"\""
   ]
  },
  {
   "cell_type": "code",
   "execution_count": 132,
   "id": "c02be3a0",
   "metadata": {},
   "outputs": [],
   "source": [
    "pattern = re.compile(\"\\w +\")"
   ]
  },
  {
   "cell_type": "code",
   "execution_count": 133,
   "id": "cf40882c",
   "metadata": {},
   "outputs": [
    {
     "data": {
      "text/plain": [
       "['s ', 's ', 'a ', 'e ']"
      ]
     },
     "execution_count": 133,
     "metadata": {},
     "output_type": "execute_result"
    }
   ],
   "source": [
    "pattern.findall(txt)"
   ]
  },
  {
   "cell_type": "code",
   "execution_count": 134,
   "id": "7b909ff6",
   "metadata": {},
   "outputs": [],
   "source": [
    "pattern = re.compile(\"\\w +  # find all words\", flags=re.X)"
   ]
  },
  {
   "cell_type": "code",
   "execution_count": 135,
   "id": "19873c93",
   "metadata": {
    "scrolled": true
   },
   "outputs": [
    {
     "data": {
      "text/plain": [
       "['This', 'is', 'a', 'sample', 'text123']"
      ]
     },
     "execution_count": 135,
     "metadata": {},
     "output_type": "execute_result"
    }
   ],
   "source": [
    "pattern.findall(txt)"
   ]
  },
  {
   "cell_type": "markdown",
   "id": "4ded0c97",
   "metadata": {},
   "source": [
    "## 8. re.DEBUG\n",
    "\n",
    "This flag when set, gives some information about the compilation pattern."
   ]
  },
  {
   "cell_type": "code",
   "execution_count": 136,
   "id": "1c154dc9",
   "metadata": {},
   "outputs": [
    {
     "name": "stdout",
     "output_type": "stream",
     "text": [
      "LITERAL 8\n",
      "MAX_REPEAT 1 MAXREPEAT\n",
      "  IN\n",
      "    RANGE (97, 101)\n",
      "    RANGE (55, 57)\n",
      "LITERAL 8\n",
      "\n",
      " 0. INFO 8 0b1 3 MAXREPEAT (to 9)\n",
      "      prefix_skip 1\n",
      "      prefix [0x8] ('\\x08')\n",
      "      overlap [0]\n",
      " 9: LITERAL 0x8 ('\\x08')\n",
      "11. REPEAT_ONE 13 1 MAXREPEAT (to 25)\n",
      "15.   IN 8 (to 24)\n",
      "17.     RANGE 0x61 0x65 ('a'-'e')\n",
      "20.     RANGE 0x37 0x39 ('7'-'9')\n",
      "23.     FAILURE\n",
      "24:   SUCCESS\n",
      "25: LITERAL 0x8 ('\\x08')\n",
      "27. SUCCESS\n"
     ]
    }
   ],
   "source": [
    "pattern = re.compile(\"\\b[a-e7-9]+\\b\", flags=re.DEBUG)"
   ]
  },
  {
   "cell_type": "markdown",
   "id": "96523345",
   "metadata": {},
   "source": [
    "# Grouping\n",
    "\n",
    "> Frequently you need to obtain more information than just whether the regex pattern matched or not.\n",
    "\n",
    "By placing part of a regular expression inside round brackets or parentheses `(`, `)`, you can **group that part** of the regex pattern together.\n",
    "\n",
    "### Applications of grouping:\n",
    "\n",
    "#### 1. apply a quantifier to the entire group.\n",
    "\n",
    "For example, `(ab)+` will match one or more repetitions of `ab`."
   ]
  },
  {
   "cell_type": "code",
   "execution_count": 137,
   "id": "a2222a59",
   "metadata": {},
   "outputs": [],
   "source": [
    "txt = \"abbbbbabbbb\""
   ]
  },
  {
   "cell_type": "code",
   "execution_count": 138,
   "id": "c63ed9d2",
   "metadata": {},
   "outputs": [],
   "source": [
    "pattern1 = re.compile(\"ab+\")\n",
    "pattern2 = re.compile(\"(ab)+\")"
   ]
  },
  {
   "cell_type": "code",
   "execution_count": 139,
   "id": "7b741921",
   "metadata": {},
   "outputs": [
    {
     "name": "stdout",
     "output_type": "stream",
     "text": [
      "\u001b[43m\u001b[1mabbbbb\u001b[0m\u001b[43m\u001b[1mabbbb\u001b[0m\n"
     ]
    }
   ],
   "source": [
    "highlight_regex_matches(pattern1, txt)"
   ]
  },
  {
   "cell_type": "code",
   "execution_count": 140,
   "id": "1b23bc50",
   "metadata": {},
   "outputs": [
    {
     "name": "stdout",
     "output_type": "stream",
     "text": [
      "\u001b[43m\u001b[1mab\u001b[0mbbbb\u001b[43m\u001b[1mab\u001b[0mbbb\n"
     ]
    }
   ],
   "source": [
    "highlight_regex_matches(pattern2, txt)"
   ]
  },
  {
   "cell_type": "markdown",
   "id": "c383896d",
   "metadata": {},
   "source": [
    "#### 2. restrict alternation to part of the regex.\n",
    "\n",
    "For example, `my name is ram|sam` will match `my name is ram` and `sam` whereas `my name is (ram|sam)` will match `my name is ram` and `my name is sam`."
   ]
  },
  {
   "cell_type": "code",
   "execution_count": 141,
   "id": "8e95983e",
   "metadata": {},
   "outputs": [],
   "source": [
    "txt = \"\"\"\n",
    "my name is ram\n",
    "my name is sam\n",
    "\"\"\""
   ]
  },
  {
   "cell_type": "code",
   "execution_count": 142,
   "id": "a133563d",
   "metadata": {},
   "outputs": [],
   "source": [
    "pattern1 = re.compile(\"my name is ram|sam\")\n",
    "pattern2 = re.compile(\"my name is (ram|sam)\")"
   ]
  },
  {
   "cell_type": "code",
   "execution_count": 143,
   "id": "0d1dba8b",
   "metadata": {},
   "outputs": [
    {
     "name": "stdout",
     "output_type": "stream",
     "text": [
      "\n",
      "\u001b[43m\u001b[1mmy name is ram\u001b[0m\n",
      "my name is \u001b[43m\u001b[1msam\u001b[0m\n",
      "\n"
     ]
    }
   ],
   "source": [
    "highlight_regex_matches(pattern1, txt)"
   ]
  },
  {
   "cell_type": "code",
   "execution_count": 144,
   "id": "f98415f6",
   "metadata": {},
   "outputs": [
    {
     "name": "stdout",
     "output_type": "stream",
     "text": [
      "\n",
      "\u001b[43m\u001b[1mmy name is ram\u001b[0m\n",
      "\u001b[43m\u001b[1mmy name is sam\u001b[0m\n",
      "\n"
     ]
    }
   ],
   "source": [
    "highlight_regex_matches(pattern2, txt)"
   ]
  },
  {
   "cell_type": "markdown",
   "id": "da0a7381",
   "metadata": {},
   "source": [
    "#### 3. capture the text matched by group.\n",
    "\n",
    "- Groups indicated with `(`, `)` also capture the **starting** and **ending** index of the text that they match.\n",
    "\n",
    "- Groups can be retrieved by passing an argument to `group()`, `start()`, `end()`, and `span()` of the `Match` object. \n",
    "\n",
    "- Groups are numbered starting with `0`. \n",
    "\n",
    "- Group `0` is always present; it captures the whole regex pattern, so all `Match` object methods have group `0` as their default argument.\n",
    "\n",
    "Consider an example where we want to parse a date and determine day, month and year."
   ]
  },
  {
   "cell_type": "code",
   "execution_count": 145,
   "id": "b97f14cb",
   "metadata": {},
   "outputs": [],
   "source": [
    "txt = \"12/02/2019\" "
   ]
  },
  {
   "cell_type": "code",
   "execution_count": 146,
   "id": "2eb943e4",
   "metadata": {},
   "outputs": [],
   "source": [
    "pattern = re.compile(\"(\\d{2})\\/(\\d{2})\\/(\\d{4})\")"
   ]
  },
  {
   "cell_type": "code",
   "execution_count": 147,
   "id": "5ec07006",
   "metadata": {},
   "outputs": [],
   "source": [
    "match = pattern.match(txt)"
   ]
  },
  {
   "cell_type": "code",
   "execution_count": 148,
   "id": "adc81ec1",
   "metadata": {},
   "outputs": [
    {
     "data": {
      "text/plain": [
       "'12/02/2019'"
      ]
     },
     "execution_count": 148,
     "metadata": {},
     "output_type": "execute_result"
    }
   ],
   "source": [
    "# group 0: matches entire regex pattern\n",
    "match.group(0)"
   ]
  },
  {
   "cell_type": "code",
   "execution_count": 149,
   "id": "fed8ca7e",
   "metadata": {},
   "outputs": [
    {
     "data": {
      "text/plain": [
       "'12'"
      ]
     },
     "execution_count": 149,
     "metadata": {},
     "output_type": "execute_result"
    }
   ],
   "source": [
    "# group 1: match 1st group\n",
    "match.group(1)"
   ]
  },
  {
   "cell_type": "code",
   "execution_count": 150,
   "id": "2f91b08d",
   "metadata": {},
   "outputs": [
    {
     "data": {
      "text/plain": [
       "'02'"
      ]
     },
     "execution_count": 150,
     "metadata": {},
     "output_type": "execute_result"
    }
   ],
   "source": [
    "match.group(2)"
   ]
  },
  {
   "cell_type": "code",
   "execution_count": 151,
   "id": "d978e6d6",
   "metadata": {},
   "outputs": [
    {
     "data": {
      "text/plain": [
       "'2019'"
      ]
     },
     "execution_count": 151,
     "metadata": {},
     "output_type": "execute_result"
    }
   ],
   "source": [
    "match.group(3)"
   ]
  },
  {
   "cell_type": "code",
   "execution_count": 152,
   "id": "720f46dc",
   "metadata": {},
   "outputs": [],
   "source": [
    "day, month, year = match.groups()"
   ]
  },
  {
   "cell_type": "code",
   "execution_count": 153,
   "id": "84a19f4e",
   "metadata": {
    "scrolled": true
   },
   "outputs": [
    {
     "data": {
      "text/plain": [
       "('12', '02', '2019')"
      ]
     },
     "execution_count": 153,
     "metadata": {},
     "output_type": "execute_result"
    }
   ],
   "source": [
    "day, month, year"
   ]
  },
  {
   "cell_type": "markdown",
   "id": "de0d4f14",
   "metadata": {},
   "source": [
    "Let's try one more example of group capturing. \n",
    "\n",
    "In the given text, find all the patterns with `Name: <some-name>` and extract `<some-name>`. "
   ]
  },
  {
   "cell_type": "code",
   "execution_count": 154,
   "id": "46cdf0d3",
   "metadata": {},
   "outputs": [],
   "source": [
    "txt = \"\"\"\n",
    "Name: Nikhil\n",
    "Age: 0\n",
    "Roll No.: 15\n",
    "Grade: S\n",
    "\n",
    "Name: Ravi\n",
    "Age: -1\n",
    "Roll No.: 123\n",
    "Grade: K\n",
    "\n",
    "Name: Ram\n",
    "Age: N/A\n",
    "Roll No.: 1\n",
    "Grade: G\n",
    "\"\"\""
   ]
  },
  {
   "cell_type": "code",
   "execution_count": 155,
   "id": "8de3b2be",
   "metadata": {},
   "outputs": [],
   "source": [
    "pattern = re.compile(\"Name: (.+)\\n\")"
   ]
  },
  {
   "cell_type": "code",
   "execution_count": 156,
   "id": "381ce06d",
   "metadata": {},
   "outputs": [
    {
     "data": {
      "text/plain": [
       "['Nikhil', 'Ravi', 'Ram']"
      ]
     },
     "execution_count": 156,
     "metadata": {},
     "output_type": "execute_result"
    }
   ],
   "source": [
    "pattern.findall(txt)"
   ]
  },
  {
   "cell_type": "markdown",
   "id": "cf6f5d10",
   "metadata": {},
   "source": [
    "> Parentheses cannot be used inside character classes, at least not as metacharacters. When you put a parenthesis in a character class, it is treated as a literal character. So the regex `[(a)b]` matches `a`, `b`, `(`, and `)`."
   ]
  },
  {
   "cell_type": "markdown",
   "id": "775fa543",
   "metadata": {},
   "source": [
    "# Backreferencing\n",
    "\n",
    "**Backreferences** in a pattern allow you to specify that the contents of an earlier capturing group must also be found at the current location in the string. \n",
    "\n",
    "> For example, `\\1` will succeed if the exact contents of group `1` can be found at the current position, and fails otherwise.\n",
    "\n",
    "### Example 1\n",
    "\n",
    "Consider a scenario where we want to find all the duplicated words in the given text."
   ]
  },
  {
   "cell_type": "code",
   "execution_count": 157,
   "id": "f5c6c910",
   "metadata": {},
   "outputs": [],
   "source": [
    "txt = \"\"\"\n",
    "hello hello\n",
    "how are you\n",
    "bye bye\n",
    "\"\"\""
   ]
  },
  {
   "cell_type": "code",
   "execution_count": 158,
   "id": "aa313ac5",
   "metadata": {},
   "outputs": [],
   "source": [
    "pattern = re.compile(\"(\\w+) \\\\1\")"
   ]
  },
  {
   "cell_type": "code",
   "execution_count": 159,
   "id": "00c6b431",
   "metadata": {
    "scrolled": true
   },
   "outputs": [
    {
     "data": {
      "text/plain": [
       "['hello', 'bye']"
      ]
     },
     "execution_count": 159,
     "metadata": {},
     "output_type": "execute_result"
    }
   ],
   "source": [
    "pattern.findall(txt)"
   ]
  },
  {
   "cell_type": "markdown",
   "id": "328b03a1",
   "metadata": {},
   "source": [
    "> Since Python’s string literals also use a **backslash followed by numbers** to allow including arbitrary characters in a string, backreferences need to be **escaped** so that regex engine gets proper format. We can also use **raw strings** to ignore escaping.\n",
    "\n",
    "Here is an example using raw strings."
   ]
  },
  {
   "cell_type": "code",
   "execution_count": 160,
   "id": "68467b3a",
   "metadata": {},
   "outputs": [],
   "source": [
    "pattern = re.compile(r\"(\\w+) \\1\")"
   ]
  },
  {
   "cell_type": "code",
   "execution_count": 161,
   "id": "0d4b3b4d",
   "metadata": {},
   "outputs": [
    {
     "data": {
      "text/plain": [
       "['hello', 'bye']"
      ]
     },
     "execution_count": 161,
     "metadata": {},
     "output_type": "execute_result"
    }
   ],
   "source": [
    "pattern.findall(txt)"
   ]
  },
  {
   "cell_type": "markdown",
   "id": "906ab048",
   "metadata": {},
   "source": [
    "### Example 2\n",
    "\n",
    "Consider a scenario where we want to find all dates with the format `dd/mm/yyy` and change them to `yyyy-mm-dd` format. "
   ]
  },
  {
   "cell_type": "code",
   "execution_count": 162,
   "id": "c3bcdbfc",
   "metadata": {},
   "outputs": [],
   "source": [
    "txt = \"\"\"\n",
    "today is 23/02/2019.\n",
    "yesterday was 22/02/2019.\n",
    "tomorrow is 24/02/2019.\n",
    "\"\"\""
   ]
  },
  {
   "cell_type": "code",
   "execution_count": 163,
   "id": "a4e1ecd7",
   "metadata": {},
   "outputs": [],
   "source": [
    "pattern = re.compile(\"(\\d{2})\\/(\\d{2})\\/(\\d{4})\")"
   ]
  },
  {
   "cell_type": "code",
   "execution_count": 164,
   "id": "26a933ae",
   "metadata": {},
   "outputs": [],
   "source": [
    "newtxt = pattern.sub(r\"\\3-\\2-\\1\", txt)"
   ]
  },
  {
   "cell_type": "code",
   "execution_count": 165,
   "id": "28e53b09",
   "metadata": {},
   "outputs": [
    {
     "name": "stdout",
     "output_type": "stream",
     "text": [
      "\n",
      "today is 2019-02-23.\n",
      "yesterday was 2019-02-22.\n",
      "tomorrow is 2019-02-24.\n",
      "\n"
     ]
    }
   ],
   "source": [
    "print(newtxt)"
   ]
  },
  {
   "cell_type": "markdown",
   "id": "b85f337f",
   "metadata": {},
   "source": [
    "> Backreferences, too, cannot be used inside a character class. The `\\1` in a regex like `(a)[\\1b]` is either an error or a needlessly escaped literal 1. "
   ]
  },
  {
   "cell_type": "markdown",
   "id": "2cc8991b",
   "metadata": {},
   "source": [
    "# Named Groups\n",
    "\n",
    "> Using numbers to refer to groups can be tedious and confusing, and the worst thing is that it doesn't allow you to give meaning or context to the group. That's why we have named groups.\n",
    "\n",
    "Instead of referring to groups by numbers, groups can be referenced by a name. Such a group is called a **named group**.\n",
    "\n",
    "- The syntax for a named group is one of the Python-specific extensions: `(?P<name>...)`  where `name` is, obviously, the name of the group. \n",
    "\n",
    "- Named groups behave exactly like capturing groups, and additionally associate a name with a group.\n",
    "\n",
    "- Here is a table which shows three different ways to refer to named groups:\n",
    "    \n",
    "<table style=\"border: 1px solid black; font-size:15px;\">\n",
    "<thead>\n",
    "    <th>Use</th>\n",
    "    <th>Syntax</th>\n",
    "</thead>\n",
    "    \n",
    "<tbody>\n",
    "<tr>\n",
    "    <td>Inside a pattern</td>\n",
    "    <td>(?P=name)</td>\n",
    "</tr>\n",
    "    \n",
    "<tr>\n",
    "    <td>In the repl string of the sub operation</td>\n",
    "    <td>\\g&lt;name&gt;</td>\n",
    "</tr>\n",
    "\n",
    "<tr>\n",
    "    <td>In any of the operations of the MatchObject</td>\n",
    "    <td>match.group('name')</td>\n",
    "</tr>\n",
    "</tbody>\n",
    "</table>\n",
    "\n",
    "### Example 1\n",
    "\n",
    "Consider a scenario where we want to extract the first name and last name of a person."
   ]
  },
  {
   "cell_type": "code",
   "execution_count": 166,
   "id": "3b7e6f00",
   "metadata": {},
   "outputs": [],
   "source": [
    "txt = \"Arjun Verma\""
   ]
  },
  {
   "cell_type": "code",
   "execution_count": 167,
   "id": "4b24b796",
   "metadata": {},
   "outputs": [],
   "source": [
    "pattern = re.compile(\"(?P<first>\\w+) (?P<last>\\w+)\")"
   ]
  },
  {
   "cell_type": "code",
   "execution_count": 168,
   "id": "bcd39afd",
   "metadata": {},
   "outputs": [],
   "source": [
    "match = pattern.match(txt)"
   ]
  },
  {
   "cell_type": "code",
   "execution_count": 169,
   "id": "8341ca61",
   "metadata": {},
   "outputs": [
    {
     "data": {
      "text/plain": [
       "'Arjun'"
      ]
     },
     "execution_count": 169,
     "metadata": {},
     "output_type": "execute_result"
    }
   ],
   "source": [
    "match.group('first')"
   ]
  },
  {
   "cell_type": "code",
   "execution_count": 170,
   "id": "95380e67",
   "metadata": {},
   "outputs": [
    {
     "data": {
      "text/plain": [
       "'Verma'"
      ]
     },
     "execution_count": 170,
     "metadata": {},
     "output_type": "execute_result"
    }
   ],
   "source": [
    "match.group('last')"
   ]
  },
  {
   "cell_type": "markdown",
   "id": "6c880c58",
   "metadata": {},
   "source": [
    "### Example 2\n",
    "\n",
    "Now consider the scenario where we want to swap first name and last name in above example."
   ]
  },
  {
   "cell_type": "code",
   "execution_count": 171,
   "id": "b75b6d7a",
   "metadata": {
    "scrolled": true
   },
   "outputs": [
    {
     "data": {
      "text/plain": [
       "'Verma Arjun'"
      ]
     },
     "execution_count": 171,
     "metadata": {},
     "output_type": "execute_result"
    }
   ],
   "source": [
    "pattern.sub(\"\\g<last> \\g<first>\", txt)"
   ]
  },
  {
   "cell_type": "markdown",
   "id": "695887de",
   "metadata": {},
   "source": [
    "### Example 3\n",
    "\n",
    "Consider a scenario where we want to check if a person has same first and last name."
   ]
  },
  {
   "cell_type": "code",
   "execution_count": 172,
   "id": "162c3b5e",
   "metadata": {},
   "outputs": [],
   "source": [
    "txt = \"Jhonson Jhonson\""
   ]
  },
  {
   "cell_type": "code",
   "execution_count": 173,
   "id": "09eb6e3f",
   "metadata": {},
   "outputs": [],
   "source": [
    "pattern = re.compile(\"(?P<first>\\w+) (?P=first)\")"
   ]
  },
  {
   "cell_type": "code",
   "execution_count": 174,
   "id": "41e7f56b",
   "metadata": {},
   "outputs": [
    {
     "data": {
      "text/plain": [
       "['Jhonson']"
      ]
     },
     "execution_count": 174,
     "metadata": {},
     "output_type": "execute_result"
    }
   ],
   "source": [
    "pattern.findall(txt)"
   ]
  },
  {
   "cell_type": "markdown",
   "id": "127a62ea",
   "metadata": {},
   "source": [
    "# Non-Capturing Groups\n",
    "\n",
    "> There are cases when we want to use groups, but we're not interested in extracting the information, i.e. capturing the matched text inside paranthesis only. An example is **alteration**.\n",
    "\n",
    "Let's consider an example where we want to find the strings `i love cats` or `i love dogs` in the given text."
   ]
  },
  {
   "cell_type": "code",
   "execution_count": 175,
   "id": "7dfcf7e3",
   "metadata": {},
   "outputs": [],
   "source": [
    "txt = \"\"\"\n",
    "i love cats\n",
    "i love dogs\n",
    "\"\"\""
   ]
  },
  {
   "cell_type": "code",
   "execution_count": 176,
   "id": "8ac3c153",
   "metadata": {},
   "outputs": [],
   "source": [
    "pattern = re.compile(\"i love (cats|dogs)\")"
   ]
  },
  {
   "cell_type": "code",
   "execution_count": 177,
   "id": "49cd2f9b",
   "metadata": {},
   "outputs": [
    {
     "data": {
      "text/plain": [
       "['cats', 'dogs']"
      ]
     },
     "execution_count": 177,
     "metadata": {},
     "output_type": "execute_result"
    }
   ],
   "source": [
    "pattern.findall(txt)"
   ]
  },
  {
   "cell_type": "code",
   "execution_count": 178,
   "id": "e7e08ae2",
   "metadata": {},
   "outputs": [
    {
     "name": "stdout",
     "output_type": "stream",
     "text": [
      "Complete regex match (default): i love cats\n",
      "Match captured by 1st group: cats\n",
      "Complete regex match (default): i love dogs\n",
      "Match captured by 1st group: dogs\n"
     ]
    }
   ],
   "source": [
    "for match in pattern.finditer(txt):\n",
    "    print(\"Complete regex match (default):\", match.group(0))\n",
    "    print(\"Match captured by 1st group:\", match.group(1))"
   ]
  },
  {
   "cell_type": "markdown",
   "id": "a41f49f1",
   "metadata": {},
   "source": [
    "As we can see, the group captured part contains only `cats` or `dogs` instead of complete sentences.\n",
    "\n",
    "Hence, to make a group **non-capturing**, we have to use the syntax `(?:pattern)`."
   ]
  },
  {
   "cell_type": "code",
   "execution_count": 179,
   "id": "4c87d450",
   "metadata": {},
   "outputs": [],
   "source": [
    "pattern = re.compile(\"i love (?:cats|dogs)\")"
   ]
  },
  {
   "cell_type": "code",
   "execution_count": 180,
   "id": "20c843f7",
   "metadata": {},
   "outputs": [
    {
     "data": {
      "text/plain": [
       "['i love cats', 'i love dogs']"
      ]
     },
     "execution_count": 180,
     "metadata": {},
     "output_type": "execute_result"
    }
   ],
   "source": [
    "pattern.findall(txt)"
   ]
  },
  {
   "cell_type": "markdown",
   "id": "1ba1e3e1",
   "metadata": {},
   "source": [
    "> After using the new syntax, we have the same functionality as before, but now we're saving resources and the regex is easier to maintain. Note that the group cannot be referenced."
   ]
  },
  {
   "cell_type": "markdown",
   "id": "5a383444",
   "metadata": {},
   "source": [
    "# Zero-width assertions\n",
    "\n",
    "- Characters which indicate positions rather than actual content are called **zero-width assertions**.\n",
    "\n",
    "\n",
    "- For instance, the caret symbol (`^`) is a representation of the beginning of a line or the dollar sign (`$`) for the end of a line. \n",
    "\n",
    "\n",
    "- They effectively do assertion without consuming characters; they just return a positive or negative result of the match.\n",
    "\n",
    "\n",
    "- A more powerful kind of **zero-width assertion** is **look around**, a mechanism with which it is possible to match a certain previous (**look behind**) or ulterior (**look ahead**) value to the current position.\n",
    "\n",
    "\n",
    "# Look around\n",
    "\n",
    "\n",
    "**Look around** is a simple mechanism which during the matching process, at the current position, looks forward (or behind, depends on type of lookaround used) to see if **some** pattern matches before continuing with the actual match.\n",
    "\n",
    "The most important thing to understand here is that **look around** mechanism consists of 2 parts:\n",
    "- **actual expression**: an expression whose match constitutes the final **result**.\n",
    "- **non-consuming expression**: an expression whose match is evaluated before the actual expression, just to see if it can succeed. It is **not actually consumed** by the regex engine.\n",
    "    - If the non-consuming match **succeeds**, the regex engine forgets about this non-consuming expression and starts evaluating the next character from the current position of the actual expression. \n",
    "    - If the non-consuming match **does not succeed**, we simply move to next character of the given text and repeat the whole match process again.\n",
    "\n",
    "There are 2 main categories of **look around**  which, in turn, have 2 sub-categories each.\n",
    "\n",
    "![](images/lookaround.png)\n",
    "\n",
    "Let's explore each one of them one by one."
   ]
  },
  {
   "cell_type": "markdown",
   "id": "7181c889",
   "metadata": {},
   "source": [
    "# Look ahead\n",
    "\n",
    "**Look ahead** mechanism checks the match for a non-consuming expression **ahead** of a given pattern.\n",
    "\n",
    "\n",
    "## Positive look ahead\n",
    "\n",
    "- **Positive look ahead** will succeed if the passed non-consuming expression **does match** against the forthcoming input.\n",
    "\n",
    "- The syntax is `A(?=B)` where `A` is the **actual expression** and `B` is the **non-consuming expression**. \n",
    "\n",
    "\n",
    "Let's check out an example to understand the concept. Let's assume that we want to find a match for `love` in the given text only if it is followed by `regex`."
   ]
  },
  {
   "cell_type": "code",
   "execution_count": 181,
   "id": "252c8777",
   "metadata": {},
   "outputs": [],
   "source": [
    "txt = \"i love python, i love regex\""
   ]
  },
  {
   "cell_type": "code",
   "execution_count": 182,
   "id": "b2b187f3",
   "metadata": {},
   "outputs": [],
   "source": [
    "pattern = re.compile('love regex')"
   ]
  },
  {
   "cell_type": "code",
   "execution_count": 183,
   "id": "31e2d231",
   "metadata": {},
   "outputs": [],
   "source": [
    "match = pattern.search(txt)"
   ]
  },
  {
   "cell_type": "code",
   "execution_count": 184,
   "id": "a974e0d5",
   "metadata": {},
   "outputs": [
    {
     "data": {
      "text/plain": [
       "(17, 27)"
      ]
     },
     "execution_count": 184,
     "metadata": {},
     "output_type": "execute_result"
    }
   ],
   "source": [
    "match.span()"
   ]
  },
  {
   "cell_type": "code",
   "execution_count": 185,
   "id": "8b374afa",
   "metadata": {},
   "outputs": [
    {
     "data": {
      "text/plain": [
       "['love regex']"
      ]
     },
     "execution_count": 185,
     "metadata": {},
     "output_type": "execute_result"
    }
   ],
   "source": [
    "pattern.findall(txt)"
   ]
  },
  {
   "cell_type": "code",
   "execution_count": 186,
   "id": "d8ceb7cf",
   "metadata": {},
   "outputs": [
    {
     "name": "stdout",
     "output_type": "stream",
     "text": [
      "i love python, i \u001b[43m\u001b[1mlove regex\u001b[0m\n"
     ]
    }
   ],
   "source": [
    "highlight_regex_matches(pattern, txt)"
   ]
  },
  {
   "cell_type": "markdown",
   "id": "385e85d3",
   "metadata": {},
   "source": [
    "As we can see, a total of 10 (index 17 to 27) characters, i.e. `love regex` are consumed to search for the given pattern in the text.\n",
    "\n",
    "Now consider the regex pattern `love(?=\\sregex)`."
   ]
  },
  {
   "cell_type": "code",
   "execution_count": 187,
   "id": "63aa375c",
   "metadata": {},
   "outputs": [],
   "source": [
    "pattern = re.compile(\"love(?=\\sregex)\")"
   ]
  },
  {
   "cell_type": "code",
   "execution_count": 188,
   "id": "96966874",
   "metadata": {},
   "outputs": [],
   "source": [
    "match = pattern.search(txt)"
   ]
  },
  {
   "cell_type": "code",
   "execution_count": 189,
   "id": "b7af6f0f",
   "metadata": {},
   "outputs": [
    {
     "data": {
      "text/plain": [
       "(17, 21)"
      ]
     },
     "execution_count": 189,
     "metadata": {},
     "output_type": "execute_result"
    }
   ],
   "source": [
    "match.span()"
   ]
  },
  {
   "cell_type": "code",
   "execution_count": 190,
   "id": "4a340b5b",
   "metadata": {},
   "outputs": [
    {
     "name": "stdout",
     "output_type": "stream",
     "text": [
      "i love python, i \u001b[43m\u001b[1mlove\u001b[0m regex\n"
     ]
    }
   ],
   "source": [
    "highlight_regex_matches(pattern, txt)"
   ]
  },
  {
   "cell_type": "markdown",
   "id": "013f69b1",
   "metadata": {},
   "source": [
    "Now, using **positive look ahead** mechanism, we consumed only 4 (index 17 to 21) characters are consumed for the match.\n",
    "\n",
    "Let us check out another example to find all words in given text which are followed by `.` or `,`."
   ]
  },
  {
   "cell_type": "code",
   "execution_count": 191,
   "id": "8b51996b",
   "metadata": {},
   "outputs": [],
   "source": [
    "txt = \"My favorite colors are red, green, and blue.\""
   ]
  },
  {
   "cell_type": "code",
   "execution_count": 192,
   "id": "b50eb0bd",
   "metadata": {},
   "outputs": [],
   "source": [
    "pattern = re.compile(\"\\w+(?=,|\\.)\")"
   ]
  },
  {
   "cell_type": "code",
   "execution_count": 193,
   "id": "847ef27d",
   "metadata": {},
   "outputs": [
    {
     "data": {
      "text/plain": [
       "['red', 'green', 'blue']"
      ]
     },
     "execution_count": 193,
     "metadata": {},
     "output_type": "execute_result"
    }
   ],
   "source": [
    "pattern.findall(txt)"
   ]
  },
  {
   "cell_type": "code",
   "execution_count": 194,
   "id": "48acd3fe",
   "metadata": {},
   "outputs": [
    {
     "name": "stdout",
     "output_type": "stream",
     "text": [
      "My favorite colors are \u001b[43m\u001b[1mred\u001b[0m, \u001b[43m\u001b[1mgreen\u001b[0m, and \u001b[43m\u001b[1mblue\u001b[0m.\n"
     ]
    }
   ],
   "source": [
    "highlight_regex_matches(pattern, txt)"
   ]
  },
  {
   "cell_type": "markdown",
   "id": "d727633e",
   "metadata": {},
   "source": [
    "## Negative look ahead\n",
    "\n",
    "- **Negative look ahead** will succeed if the passed non-consuming expression **does not match** against the forthcoming input.\n",
    "\n",
    "- The syntax is `A(?!B)` where `A` is the **actual expression** and `B` is the **non-consuming expression**. \n",
    "\n",
    "\n",
    "Let's assume that we want to find a match for `love` in the given text only if it is NOT followed by `regex`."
   ]
  },
  {
   "cell_type": "code",
   "execution_count": 195,
   "id": "5232de02",
   "metadata": {},
   "outputs": [],
   "source": [
    "txt = \"i love python, i love regex\""
   ]
  },
  {
   "cell_type": "code",
   "execution_count": 196,
   "id": "8206d078",
   "metadata": {},
   "outputs": [],
   "source": [
    "pattern = re.compile(\"love(?!\\sregex)\")"
   ]
  },
  {
   "cell_type": "code",
   "execution_count": 197,
   "id": "2f43185d",
   "metadata": {},
   "outputs": [
    {
     "name": "stdout",
     "output_type": "stream",
     "text": [
      "i \u001b[43m\u001b[1mlove\u001b[0m python, i love regex\n"
     ]
    }
   ],
   "source": [
    "highlight_regex_matches(pattern, txt)"
   ]
  },
  {
   "cell_type": "code",
   "execution_count": null,
   "id": "1c7e0220",
   "metadata": {},
   "outputs": [],
   "source": []
  },
  {
   "cell_type": "code",
   "execution_count": null,
   "id": "f4ff17bb",
   "metadata": {},
   "outputs": [],
   "source": []
  },
  {
   "cell_type": "code",
   "execution_count": null,
   "id": "d8241109",
   "metadata": {},
   "outputs": [],
   "source": []
  },
  {
   "cell_type": "code",
   "execution_count": null,
   "id": "99f0da4b-3396-49eb-bf5f-5fad4ff99552",
   "metadata": {},
   "outputs": [],
   "source": []
  }
 ],
 "metadata": {
  "kernelspec": {
   "display_name": "Python 3 (ipykernel)",
   "language": "python",
   "name": "python3"
  },
  "language_info": {
   "codemirror_mode": {
    "name": "ipython",
    "version": 3
   },
   "file_extension": ".py",
   "mimetype": "text/x-python",
   "name": "python",
   "nbconvert_exporter": "python",
   "pygments_lexer": "ipython3",
   "version": "3.8.10"
  }
 },
 "nbformat": 4,
 "nbformat_minor": 5
}
